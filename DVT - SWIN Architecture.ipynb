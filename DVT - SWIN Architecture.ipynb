{
 "cells": [
  {
   "cell_type": "code",
   "execution_count": 1,
   "id": "cee69729-5edc-4aaf-8f66-a44dc7e0a186",
   "metadata": {},
   "outputs": [],
   "source": [
    "import numpy as np\n",
    "import tensorflow as tf"
   ]
  },
  {
   "cell_type": "code",
   "execution_count": 2,
   "id": "005c7df8-9a5a-4420-bee6-70b81cad2cb4",
   "metadata": {},
   "outputs": [
    {
     "data": {
      "text/plain": [
       "[PhysicalDevice(name='/physical_device:GPU:0', device_type='GPU')]"
      ]
     },
     "execution_count": 2,
     "metadata": {},
     "output_type": "execute_result"
    }
   ],
   "source": [
    "tf.config.list_physical_devices('GPU')"
   ]
  },
  {
   "cell_type": "code",
   "execution_count": 3,
   "id": "597e8728-722d-4b14-9466-1c9f5eb78005",
   "metadata": {},
   "outputs": [],
   "source": [
    "from swin_transformer_final import SwinTransformer"
   ]
  },
  {
   "cell_type": "code",
   "execution_count": 4,
   "id": "c786f0ed-44a8-4631-9d65-f0466263e832",
   "metadata": {},
   "outputs": [
    {
     "name": "stderr",
     "output_type": "stream",
     "text": [
      "2024-04-12 17:56:17.701035: I metal_plugin/src/device/metal_device.cc:1154] Metal device set to: Apple M2\n",
      "2024-04-12 17:56:17.701050: I metal_plugin/src/device/metal_device.cc:296] systemMemory: 16.00 GB\n",
      "2024-04-12 17:56:17.701054: I metal_plugin/src/device/metal_device.cc:313] maxCacheSize: 5.33 GB\n",
      "2024-04-12 17:56:17.701079: I tensorflow/core/common_runtime/pluggable_device/pluggable_device_factory.cc:306] Could not identify NUMA node of platform GPU ID 0, defaulting to 0. Your kernel may not have been built with NUMA support.\n",
      "2024-04-12 17:56:17.701091: I tensorflow/core/common_runtime/pluggable_device/pluggable_device_factory.cc:272] Created TensorFlow device (/job:localhost/replica:0/task:0/device:GPU:0 with 0 MB memory) -> physical PluggableDevice (device: 0, name: METAL, pci bus id: <undefined>)\n"
     ]
    }
   ],
   "source": [
    "model = SwinTransformer(model_name='swin_tiny_224', num_classes=5, include_top=True, pretrained=True)"
   ]
  },
  {
   "cell_type": "code",
   "execution_count": 5,
   "id": "a3834ac0-ba04-4740-90d3-60f57ba58568",
   "metadata": {},
   "outputs": [
    {
     "name": "stdout",
     "output_type": "stream",
     "text": [
      "Model: \"swin_tiny_224\"\n",
      "_________________________________________________________________\n",
      " Layer (type)                Output Shape              Param #   \n",
      "=================================================================\n",
      " patch_embed (PatchEmbed)    multiple                  4896      \n",
      "                                                                 \n",
      " dropout (Dropout)           multiple                  0         \n",
      "                                                                 \n",
      " sequential_4 (Sequential)   (None, 49, 768)           27762626  \n",
      "                                                                 \n",
      " norm (LayerNormalization)   multiple                  1536      \n",
      "                                                                 \n",
      " global_average_pooling1d (  multiple                  0         \n",
      " GlobalAveragePooling1D)                                         \n",
      "                                                                 \n",
      " head (Dense)                multiple                  3845      \n",
      "                                                                 \n",
      "=================================================================\n",
      "Total params: 27772903 (106.90 MB)\n",
      "Trainable params: 27523199 (104.99 MB)\n",
      "Non-trainable params: 249704 (1.91 MB)\n",
      "_________________________________________________________________\n"
     ]
    }
   ],
   "source": [
    "model.summary()"
   ]
  },
  {
   "cell_type": "code",
   "execution_count": 6,
   "id": "4e540e66-b95e-4f06-8abf-e2aff6954a3c",
   "metadata": {},
   "outputs": [],
   "source": [
    "from tensorflow.keras.preprocessing.image import ImageDataGenerator\n",
    "datagen = ImageDataGenerator(rescale = 1./255, \n",
    "                             shear_range = 0.2, \n",
    "                             zoom_range = 0.3, \n",
    "                             horizontal_flip = True, \n",
    "                             validation_split = 0.2)"
   ]
  },
  {
   "cell_type": "code",
   "execution_count": 7,
   "id": "45bcea39-5089-493b-a05a-9f2972f320bb",
   "metadata": {},
   "outputs": [],
   "source": [
    "image_size = (224,224)\n",
    "batch_size=32"
   ]
  },
  {
   "cell_type": "code",
   "execution_count": 8,
   "id": "5ec47df7-52db-4474-b1ca-b8edb2ca5890",
   "metadata": {},
   "outputs": [],
   "source": [
    "import os"
   ]
  },
  {
   "cell_type": "code",
   "execution_count": 9,
   "id": "6330ee09-38b4-44d3-8c7a-196e1bf56087",
   "metadata": {},
   "outputs": [],
   "source": [
    "data_path = 'Lung_Disease_Dataset/train'\n",
    "classes = os.listdir(data_path)\n",
    "classes = [i for i in classes if not i.startswith('.')]"
   ]
  },
  {
   "cell_type": "code",
   "execution_count": 10,
   "id": "b8cde855-9fe8-4d81-ac98-8aa68ea7cc6b",
   "metadata": {},
   "outputs": [
    {
     "name": "stdout",
     "output_type": "stream",
     "text": [
      "Found 4845 images belonging to 5 classes.\n",
      "Found 1209 images belonging to 5 classes.\n"
     ]
    }
   ],
   "source": [
    "train_datagen = datagen.flow_from_directory(data_path, \n",
    "                                            target_size=image_size, \n",
    "                                            batch_size=batch_size, \n",
    "                                            class_mode = 'categorical',\n",
    "                                            subset='training')\n",
    "\n",
    "valid_datagen = datagen.flow_from_directory(data_path, \n",
    "                                            target_size=image_size,\n",
    "                                            batch_size=batch_size,  \n",
    "                                            class_mode='categorical', \n",
    "                                            subset='validation')"
   ]
  },
  {
   "cell_type": "code",
   "execution_count": 11,
   "id": "2d0e88e2-da48-481e-9e80-7675a0b304af",
   "metadata": {},
   "outputs": [],
   "source": [
    "model.compile(loss='categorical_crossentropy', optimizer='adam', metrics=['accuracy'])"
   ]
  },
  {
   "cell_type": "code",
   "execution_count": 34,
   "id": "63581533-3c1d-4263-97ea-03771d4ff556",
   "metadata": {
    "scrolled": true
   },
   "outputs": [
    {
     "name": "stdout",
     "output_type": "stream",
     "text": [
      "Batch 0 done!\n",
      "Batch 1 done!\n",
      "Batch 2 done!\n",
      "Batch 3 done!\n",
      "Batch 4 done!\n",
      "Batch 5 done!\n",
      "Batch 6 done!\n",
      "Batch 7 done!\n",
      "Batch 8 done!\n",
      "Batch 9 done!\n",
      "Batch 10 done!\n",
      "Batch 11 done!\n",
      "Batch 12 done!\n",
      "Batch 13 done!\n",
      "Batch 14 done!\n",
      "Batch 15 done!\n",
      "Batch 16 done!\n",
      "Batch 17 done!\n",
      "Batch 18 done!\n",
      "Batch 19 done!\n",
      "Batch 20 done!\n",
      "Batch 21 done!\n",
      "Batch 22 done!\n",
      "Batch 23 done!\n",
      "Batch 24 done!\n",
      "Batch 25 done!\n",
      "Batch 26 done!\n",
      "Batch 27 done!\n",
      "Batch 28 done!\n",
      "Batch 29 done!\n",
      "Batch 30 done!\n",
      "Batch 31 done!\n",
      "Batch 32 done!\n",
      "Batch 33 done!\n",
      "Batch 34 done!\n",
      "Batch 35 done!\n",
      "Batch 36 done!\n",
      "Batch 37 done!\n",
      "Batch 38 done!\n",
      "Batch 39 done!\n",
      "Batch 40 done!\n",
      "Batch 41 done!\n",
      "Batch 42 done!\n",
      "Batch 43 done!\n",
      "Batch 44 done!\n",
      "Batch 45 done!\n",
      "Batch 46 done!\n",
      "Batch 47 done!\n",
      "Batch 48 done!\n",
      "Batch 49 done!\n",
      "Batch 50 done!\n",
      "Batch 51 done!\n",
      "Batch 52 done!\n",
      "Batch 53 done!\n",
      "Batch 54 done!\n",
      "Batch 55 done!\n",
      "Batch 56 done!\n",
      "Batch 57 done!\n",
      "Batch 58 done!\n",
      "Batch 59 done!\n",
      "Batch 60 done!\n",
      "Batch 61 done!\n",
      "Batch 62 done!\n",
      "Batch 63 done!\n",
      "Batch 64 done!\n",
      "Batch 65 done!\n",
      "Batch 66 done!\n",
      "Batch 67 done!\n",
      "Batch 68 done!\n",
      "Batch 69 done!\n",
      "Batch 70 done!\n",
      "Batch 71 done!\n",
      "Batch 72 done!\n",
      "Batch 73 done!\n",
      "Batch 74 done!\n",
      "Batch 75 done!\n",
      "Batch 76 done!\n",
      "Batch 77 done!\n",
      "Batch 78 done!\n",
      "Batch 79 done!\n",
      "Batch 80 done!\n",
      "Batch 81 done!\n",
      "Batch 82 done!\n",
      "Batch 83 done!\n",
      "Batch 84 done!\n",
      "Batch 85 done!\n",
      "Batch 86 done!\n",
      "Batch 87 done!\n",
      "Batch 88 done!\n",
      "Batch 89 done!\n",
      "Batch 90 done!\n",
      "Batch 91 done!\n",
      "Batch 92 done!\n",
      "Batch 93 done!\n",
      "Batch 94 done!\n",
      "Batch 95 done!\n",
      "Batch 96 done!\n",
      "Batch 97 done!\n",
      "Batch 98 done!\n",
      "Batch 99 done!\n",
      "Batch 100 done!\n",
      "Batch 101 done!\n",
      "Batch 102 done!\n",
      "Batch 103 done!\n",
      "Batch 104 done!\n",
      "Batch 105 done!\n",
      "Batch 106 done!\n",
      "Batch 107 done!\n",
      "Batch 108 done!\n",
      "Batch 109 done!\n",
      "Batch 110 done!\n",
      "Batch 111 done!\n",
      "Batch 112 done!\n",
      "Batch 113 done!\n",
      "Batch 114 done!\n",
      "Batch 115 done!\n",
      "Batch 116 done!\n",
      "Batch 117 done!\n",
      "Batch 118 done!\n",
      "Batch 119 done!\n",
      "Batch 120 done!\n",
      "Batch 121 done!\n",
      "Batch 122 done!\n",
      "Batch 123 done!\n",
      "Batch 124 done!\n",
      "Batch 125 done!\n",
      "Batch 126 done!\n",
      "Batch 127 done!\n",
      "Batch 128 done!\n",
      "Batch 129 done!\n",
      "Batch 130 done!\n",
      "Batch 131 done!\n",
      "Batch 132 done!\n",
      "Batch 133 done!\n",
      "Batch 134 done!\n",
      "Batch 135 done!\n",
      "Batch 136 done!\n",
      "Batch 137 done!\n",
      "Batch 138 done!\n",
      "Batch 139 done!\n",
      "Batch 140 done!\n",
      "Batch 141 done!\n",
      "Batch 142 done!\n",
      "Batch 143 done!\n",
      "Batch 144 done!\n",
      "Batch 145 done!\n",
      "Batch 146 done!\n",
      "Batch 147 done!\n",
      "Batch 148 done!\n",
      "Batch 149 done!\n",
      "Batch 150 done!\n",
      "Batch 151 done!\n",
      "Batch 152 done!\n",
      "Batch 153 done!\n",
      "Batch 154 done!\n",
      "Batch 155 done!\n",
      "Batch 156 done!\n",
      "Batch 157 done!\n",
      "Batch 158 done!\n",
      "Batch 159 done!\n",
      "Batch 160 done!\n",
      "Batch 161 done!\n",
      "Batch 162 done!\n",
      "Batch 163 done!\n",
      "Batch 164 done!\n",
      "Batch 165 done!\n",
      "Batch 166 done!\n",
      "Batch 167 done!\n",
      "Batch 168 done!\n",
      "Batch 169 done!\n",
      "Batch 170 done!\n",
      "Batch 171 done!\n",
      "Batch 172 done!\n",
      "Batch 173 done!\n",
      "Batch 174 done!\n",
      "Batch 175 done!\n",
      "Batch 176 done!\n",
      "Batch 177 done!\n",
      "Batch 178 done!\n",
      "Batch 179 done!\n",
      "Batch 180 done!\n",
      "Batch 181 done!\n",
      "Batch 182 done!\n",
      "Batch 183 done!\n",
      "Batch 184 done!\n",
      "Batch 185 done!\n",
      "Batch 186 done!\n",
      "Batch 187 done!\n",
      "Batch 188 done!\n",
      "Batch 189 done!\n",
      "Batch 190 done!\n",
      "Batch 191 done!\n",
      "Batch 192 done!\n",
      "Batch 193 done!\n",
      "Batch 194 done!\n",
      "Batch 195 done!\n",
      "Batch 196 done!\n",
      "Batch 197 done!\n",
      "Batch 198 done!\n",
      "Batch 199 done!\n",
      "Batch 200 done!\n",
      "Batch 201 done!\n",
      "Batch 202 done!\n",
      "Batch 203 done!\n",
      "Batch 204 done!\n",
      "Batch 205 done!\n",
      "Batch 206 done!\n",
      "Batch 207 done!\n",
      "Batch 208 done!\n",
      "Batch 209 done!\n",
      "Batch 210 done!\n",
      "Batch 211 done!\n",
      "Batch 212 done!\n",
      "Batch 213 done!\n",
      "Batch 214 done!\n",
      "Batch 215 done!\n",
      "Batch 216 done!\n",
      "Batch 217 done!\n",
      "Batch 218 done!\n",
      "Batch 219 done!\n",
      "Batch 220 done!\n",
      "Batch 221 done!\n",
      "Batch 222 done!\n",
      "Batch 223 done!\n",
      "Batch 224 done!\n",
      "Batch 225 done!\n",
      "Batch 226 done!\n",
      "Batch 227 done!\n",
      "Batch 228 done!\n",
      "Batch 229 done!\n",
      "Batch 230 done!\n",
      "Batch 231 done!\n",
      "Batch 232 done!\n",
      "Batch 233 done!\n",
      "Batch 234 done!\n",
      "Batch 235 done!\n",
      "Batch 236 done!\n"
     ]
    },
    {
     "ename": "KeyboardInterrupt",
     "evalue": "",
     "output_type": "error",
     "traceback": [
      "\u001b[0;31m---------------------------------------------------------------------------\u001b[0m",
      "\u001b[0;31mKeyboardInterrupt\u001b[0m                         Traceback (most recent call last)",
      "Cell \u001b[0;32mIn[34], line 6\u001b[0m\n\u001b[1;32m      2\u001b[0m labels \u001b[38;5;241m=\u001b[39m []\n\u001b[1;32m      5\u001b[0m i \u001b[38;5;241m=\u001b[39m \u001b[38;5;241m0\u001b[39m\n\u001b[0;32m----> 6\u001b[0m \u001b[38;5;28;01mwhile\u001b[39;00m(\u001b[38;5;28;43mnext\u001b[39;49m\u001b[43m(\u001b[49m\u001b[43mtrain_datagen\u001b[49m\u001b[43m)\u001b[49m):\n\u001b[1;32m      7\u001b[0m     images\u001b[38;5;241m.\u001b[39mextend(\u001b[38;5;28mlist\u001b[39m(train_datagen[\u001b[38;5;241m0\u001b[39m][\u001b[38;5;241m0\u001b[39m]))\n\u001b[1;32m      8\u001b[0m     labels\u001b[38;5;241m.\u001b[39mextend(\u001b[38;5;28mlist\u001b[39m(train_datagen[\u001b[38;5;241m0\u001b[39m][\u001b[38;5;241m1\u001b[39m]))\n",
      "File \u001b[0;32m~/anaconda3/envs/tfmetal/lib/python3.10/site-packages/keras/src/preprocessing/image.py:156\u001b[0m, in \u001b[0;36mIterator.__next__\u001b[0;34m(self, *args, **kwargs)\u001b[0m\n\u001b[1;32m    155\u001b[0m \u001b[38;5;28;01mdef\u001b[39;00m \u001b[38;5;21m__next__\u001b[39m(\u001b[38;5;28mself\u001b[39m, \u001b[38;5;241m*\u001b[39margs, \u001b[38;5;241m*\u001b[39m\u001b[38;5;241m*\u001b[39mkwargs):\n\u001b[0;32m--> 156\u001b[0m     \u001b[38;5;28;01mreturn\u001b[39;00m \u001b[38;5;28;43mself\u001b[39;49m\u001b[38;5;241;43m.\u001b[39;49m\u001b[43mnext\u001b[49m\u001b[43m(\u001b[49m\u001b[38;5;241;43m*\u001b[39;49m\u001b[43margs\u001b[49m\u001b[43m,\u001b[49m\u001b[43m \u001b[49m\u001b[38;5;241;43m*\u001b[39;49m\u001b[38;5;241;43m*\u001b[39;49m\u001b[43mkwargs\u001b[49m\u001b[43m)\u001b[49m\n",
      "File \u001b[0;32m~/anaconda3/envs/tfmetal/lib/python3.10/site-packages/keras/src/preprocessing/image.py:168\u001b[0m, in \u001b[0;36mIterator.next\u001b[0;34m(self)\u001b[0m\n\u001b[1;32m    165\u001b[0m     index_array \u001b[38;5;241m=\u001b[39m \u001b[38;5;28mnext\u001b[39m(\u001b[38;5;28mself\u001b[39m\u001b[38;5;241m.\u001b[39mindex_generator)\n\u001b[1;32m    166\u001b[0m \u001b[38;5;66;03m# The transformation of images is not under thread lock\u001b[39;00m\n\u001b[1;32m    167\u001b[0m \u001b[38;5;66;03m# so it can be done in parallel\u001b[39;00m\n\u001b[0;32m--> 168\u001b[0m \u001b[38;5;28;01mreturn\u001b[39;00m \u001b[38;5;28;43mself\u001b[39;49m\u001b[38;5;241;43m.\u001b[39;49m\u001b[43m_get_batches_of_transformed_samples\u001b[49m\u001b[43m(\u001b[49m\u001b[43mindex_array\u001b[49m\u001b[43m)\u001b[49m\n",
      "File \u001b[0;32m~/anaconda3/envs/tfmetal/lib/python3.10/site-packages/keras/src/preprocessing/image.py:370\u001b[0m, in \u001b[0;36mBatchFromFilesMixin._get_batches_of_transformed_samples\u001b[0;34m(self, index_array)\u001b[0m\n\u001b[1;32m    368\u001b[0m filepaths \u001b[38;5;241m=\u001b[39m \u001b[38;5;28mself\u001b[39m\u001b[38;5;241m.\u001b[39mfilepaths\n\u001b[1;32m    369\u001b[0m \u001b[38;5;28;01mfor\u001b[39;00m i, j \u001b[38;5;129;01min\u001b[39;00m \u001b[38;5;28menumerate\u001b[39m(index_array):\n\u001b[0;32m--> 370\u001b[0m     img \u001b[38;5;241m=\u001b[39m \u001b[43mimage_utils\u001b[49m\u001b[38;5;241;43m.\u001b[39;49m\u001b[43mload_img\u001b[49m\u001b[43m(\u001b[49m\n\u001b[1;32m    371\u001b[0m \u001b[43m        \u001b[49m\u001b[43mfilepaths\u001b[49m\u001b[43m[\u001b[49m\u001b[43mj\u001b[49m\u001b[43m]\u001b[49m\u001b[43m,\u001b[49m\n\u001b[1;32m    372\u001b[0m \u001b[43m        \u001b[49m\u001b[43mcolor_mode\u001b[49m\u001b[38;5;241;43m=\u001b[39;49m\u001b[38;5;28;43mself\u001b[39;49m\u001b[38;5;241;43m.\u001b[39;49m\u001b[43mcolor_mode\u001b[49m\u001b[43m,\u001b[49m\n\u001b[1;32m    373\u001b[0m \u001b[43m        \u001b[49m\u001b[43mtarget_size\u001b[49m\u001b[38;5;241;43m=\u001b[39;49m\u001b[38;5;28;43mself\u001b[39;49m\u001b[38;5;241;43m.\u001b[39;49m\u001b[43mtarget_size\u001b[49m\u001b[43m,\u001b[49m\n\u001b[1;32m    374\u001b[0m \u001b[43m        \u001b[49m\u001b[43minterpolation\u001b[49m\u001b[38;5;241;43m=\u001b[39;49m\u001b[38;5;28;43mself\u001b[39;49m\u001b[38;5;241;43m.\u001b[39;49m\u001b[43minterpolation\u001b[49m\u001b[43m,\u001b[49m\n\u001b[1;32m    375\u001b[0m \u001b[43m        \u001b[49m\u001b[43mkeep_aspect_ratio\u001b[49m\u001b[38;5;241;43m=\u001b[39;49m\u001b[38;5;28;43mself\u001b[39;49m\u001b[38;5;241;43m.\u001b[39;49m\u001b[43mkeep_aspect_ratio\u001b[49m\u001b[43m,\u001b[49m\n\u001b[1;32m    376\u001b[0m \u001b[43m    \u001b[49m\u001b[43m)\u001b[49m\n\u001b[1;32m    377\u001b[0m     x \u001b[38;5;241m=\u001b[39m image_utils\u001b[38;5;241m.\u001b[39mimg_to_array(img, data_format\u001b[38;5;241m=\u001b[39m\u001b[38;5;28mself\u001b[39m\u001b[38;5;241m.\u001b[39mdata_format)\n\u001b[1;32m    378\u001b[0m     \u001b[38;5;66;03m# Pillow images should be closed after `load_img`,\u001b[39;00m\n\u001b[1;32m    379\u001b[0m     \u001b[38;5;66;03m# but not PIL images.\u001b[39;00m\n",
      "File \u001b[0;32m~/anaconda3/envs/tfmetal/lib/python3.10/site-packages/keras/src/utils/image_utils.py:479\u001b[0m, in \u001b[0;36mload_img\u001b[0;34m(path, grayscale, color_mode, target_size, interpolation, keep_aspect_ratio)\u001b[0m\n\u001b[1;32m    477\u001b[0m             img \u001b[38;5;241m=\u001b[39m img\u001b[38;5;241m.\u001b[39mresize(width_height_tuple, resample, box\u001b[38;5;241m=\u001b[39mcrop_box)\n\u001b[1;32m    478\u001b[0m         \u001b[38;5;28;01melse\u001b[39;00m:\n\u001b[0;32m--> 479\u001b[0m             img \u001b[38;5;241m=\u001b[39m \u001b[43mimg\u001b[49m\u001b[38;5;241;43m.\u001b[39;49m\u001b[43mresize\u001b[49m\u001b[43m(\u001b[49m\u001b[43mwidth_height_tuple\u001b[49m\u001b[43m,\u001b[49m\u001b[43m \u001b[49m\u001b[43mresample\u001b[49m\u001b[43m)\u001b[49m\n\u001b[1;32m    480\u001b[0m \u001b[38;5;28;01mreturn\u001b[39;00m img\n",
      "File \u001b[0;32m~/anaconda3/envs/tfmetal/lib/python3.10/site-packages/PIL/Image.py:2164\u001b[0m, in \u001b[0;36mImage.resize\u001b[0;34m(self, size, resample, box, reducing_gap)\u001b[0m\n\u001b[1;32m   2160\u001b[0m     \u001b[38;5;28;01mraise\u001b[39;00m \u001b[38;5;167;01mValueError\u001b[39;00m(msg)\n\u001b[1;32m   2162\u001b[0m size \u001b[38;5;241m=\u001b[39m \u001b[38;5;28mtuple\u001b[39m(size)\n\u001b[0;32m-> 2164\u001b[0m \u001b[38;5;28;43mself\u001b[39;49m\u001b[38;5;241;43m.\u001b[39;49m\u001b[43mload\u001b[49m\u001b[43m(\u001b[49m\u001b[43m)\u001b[49m\n\u001b[1;32m   2165\u001b[0m \u001b[38;5;28;01mif\u001b[39;00m box \u001b[38;5;129;01mis\u001b[39;00m \u001b[38;5;28;01mNone\u001b[39;00m:\n\u001b[1;32m   2166\u001b[0m     box \u001b[38;5;241m=\u001b[39m (\u001b[38;5;241m0\u001b[39m, \u001b[38;5;241m0\u001b[39m) \u001b[38;5;241m+\u001b[39m \u001b[38;5;28mself\u001b[39m\u001b[38;5;241m.\u001b[39msize\n",
      "File \u001b[0;32m~/anaconda3/envs/tfmetal/lib/python3.10/site-packages/PIL/ImageFile.py:291\u001b[0m, in \u001b[0;36mImageFile.load\u001b[0;34m(self)\u001b[0m\n\u001b[1;32m    288\u001b[0m         \u001b[38;5;28;01mraise\u001b[39;00m \u001b[38;5;167;01mOSError\u001b[39;00m(msg)\n\u001b[1;32m    290\u001b[0m b \u001b[38;5;241m=\u001b[39m b \u001b[38;5;241m+\u001b[39m s\n\u001b[0;32m--> 291\u001b[0m n, err_code \u001b[38;5;241m=\u001b[39m \u001b[43mdecoder\u001b[49m\u001b[38;5;241;43m.\u001b[39;49m\u001b[43mdecode\u001b[49m\u001b[43m(\u001b[49m\u001b[43mb\u001b[49m\u001b[43m)\u001b[49m\n\u001b[1;32m    292\u001b[0m \u001b[38;5;28;01mif\u001b[39;00m n \u001b[38;5;241m<\u001b[39m \u001b[38;5;241m0\u001b[39m:\n\u001b[1;32m    293\u001b[0m     \u001b[38;5;28;01mbreak\u001b[39;00m\n",
      "\u001b[0;31mKeyboardInterrupt\u001b[0m: "
     ]
    }
   ],
   "source": [
    "images = []\n",
    "labels = []\n",
    "\n",
    "\n",
    "i = 0\n",
    "while(next(train_datagen)):\n",
    "    images.extend(list(train_datagen[0][0]))\n",
    "    labels.extend(list(train_datagen[0][1]))\n",
    "    print(f\"Batch {i} done!\")\n",
    "    i += 1"
   ]
  },
  {
   "cell_type": "code",
   "execution_count": 35,
   "id": "b89ff486-73e7-44d5-bcc7-323fdab8042d",
   "metadata": {},
   "outputs": [
    {
     "data": {
      "text/plain": [
       "7584"
      ]
     },
     "execution_count": 35,
     "metadata": {},
     "output_type": "execute_result"
    }
   ],
   "source": [
    "len(images)"
   ]
  },
  {
   "cell_type": "code",
   "execution_count": 36,
   "id": "c34249cd-bbe8-4ab4-aeb1-3e571fd65c71",
   "metadata": {},
   "outputs": [
    {
     "data": {
      "text/plain": [
       "7584"
      ]
     },
     "execution_count": 36,
     "metadata": {},
     "output_type": "execute_result"
    }
   ],
   "source": [
    "len(labels)"
   ]
  },
  {
   "cell_type": "code",
   "execution_count": 40,
   "id": "bab6f26f-b2ea-4c0a-abbb-5695b7de4ff9",
   "metadata": {},
   "outputs": [],
   "source": [
    "images = np.array(images)\n",
    "labels = np.array(labels)"
   ]
  },
  {
   "cell_type": "code",
   "execution_count": 41,
   "id": "30b12d67-a68c-4e86-aee4-8d51d4b1238b",
   "metadata": {},
   "outputs": [
    {
     "data": {
      "text/plain": [
       "(7584, 224, 224, 3)"
      ]
     },
     "execution_count": 41,
     "metadata": {},
     "output_type": "execute_result"
    }
   ],
   "source": [
    "images.shape"
   ]
  },
  {
   "cell_type": "code",
   "execution_count": 42,
   "id": "3a831c5d-39fe-40fa-9956-fae5a91ebbd8",
   "metadata": {},
   "outputs": [
    {
     "data": {
      "text/plain": [
       "(7584, 5)"
      ]
     },
     "execution_count": 42,
     "metadata": {},
     "output_type": "execute_result"
    }
   ],
   "source": [
    "labels.shape"
   ]
  },
  {
   "cell_type": "code",
   "execution_count": null,
   "id": "9340138d-a98f-4bdf-b8ea-bcbd3dd0056e",
   "metadata": {},
   "outputs": [
    {
     "name": "stdout",
     "output_type": "stream",
     "text": [
      "Epoch 1/5\n"
     ]
    },
    {
     "name": "stderr",
     "output_type": "stream",
     "text": [
      "2024-03-03 16:22:21.422962: I tensorflow/core/grappler/optimizers/custom_graph_optimizer_registry.cc:117] Plugin optimizer for device_type GPU is enabled.\n"
     ]
    },
    {
     "name": "stdout",
     "output_type": "stream",
     "text": [
      "201/237 [========================>.....] - ETA: 1:11 - loss: 2.0845e-04 - accuracy: 0.2030"
     ]
    }
   ],
   "source": [
    "model.fit(images, labels, epochs=5)"
   ]
  },
  {
   "cell_type": "markdown",
   "id": "da94e888-938a-4360-b71d-8f7199dcc2e9",
   "metadata": {},
   "source": [
    "## Implementation 1"
   ]
  },
  {
   "cell_type": "code",
   "execution_count": 12,
   "id": "53d0e004-bf62-4194-a427-6a760054b1a3",
   "metadata": {},
   "outputs": [
    {
     "name": "stdout",
     "output_type": "stream",
     "text": [
      "Model: \"model\"\n",
      "__________________________________________________________________________________________________\n",
      " Layer (type)                Output Shape                 Param #   Connected to                  \n",
      "==================================================================================================\n",
      " input_2 (InputLayer)        [(None, 224, 224, 1)]        0         []                            \n",
      "                                                                                                  \n",
      " input_3 (InputLayer)        [(None, 224, 224, 3)]        0         []                            \n",
      "                                                                                                  \n",
      " conv2d (Conv2D)             (None, 224, 224, 64)         640       ['input_2[0][0]']             \n",
      "                                                                                                  \n",
      " conv2d_1 (Conv2D)           (None, 224, 224, 64)         1792      ['input_3[0][0]']             \n",
      "                                                                                                  \n",
      " SwinTransformer (SwinTrans  (None, 768)                  2786275   ['conv2d[0][0]',              \n",
      " formerModel)                                             4          'conv2d_1[0][0]']            \n",
      "                                                                                                  \n",
      " concatenate (Concatenate)   (None, 1536)                 0         ['SwinTransformer[0][0]',     \n",
      "                                                                     'SwinTransformer[1][0]']     \n",
      "                                                                                                  \n",
      " dense (Dense)               (None, 2)                    3074      ['concatenate[0][0]']         \n",
      "                                                                                                  \n",
      "==================================================================================================\n",
      "Total params: 27868260 (107.26 MB)\n",
      "Trainable params: 27618556 (105.36 MB)\n",
      "Non-trainable params: 249704 (1.91 MB)\n",
      "__________________________________________________________________________________________________\n"
     ]
    }
   ],
   "source": [
    "import tensorflow as tf\n",
    "from tensorflow.keras.layers import Input, Conv2D, Dense, Concatenate\n",
    "from tensorflow.keras.models import Model\n",
    "from swin_transformer_final import SwinTransformerModel, CFGS\n",
    "\n",
    "def create_model(input_shape_vsi, input_shape_tda, num_classes, pretrained=True, swin_model_type = 'swin_tiny_224'):\n",
    "    # Inputs for VSI and TDA images\n",
    "    input_vsi = Input(shape=input_shape_vsi)\n",
    "    input_tda = Input(shape=input_shape_tda)\n",
    "\n",
    "    # Initial Convolutional layer for each input\n",
    "    conv_vsi = Conv2D(filters=64, kernel_size=(3, 3), activation='relu', padding='same')(input_vsi)\n",
    "    conv_tda = Conv2D(filters=64, kernel_size=(3, 3), activation='relu', padding='same')(input_tda)\n",
    "\n",
    "    # Load the Swin Transformer model configuration\n",
    "    swin_config = CFGS[swin_model_type]\n",
    "    swin_transformer_model = SwinTransformerModel(include_top=False, num_classes=num_classes, **swin_config)\n",
    "    model_name = swin_model_type\n",
    "\n",
    "    ###################################\n",
    "    if pretrained is True:\n",
    "        url = f'https://github.com/rishigami/Swin-Transformer-TF/releases/download/v0.1-tf-swin-weights/{model_name}.tgz'\n",
    "        pretrained_weights = tf.keras.utils.get_file(model_name, url, untar=True)\n",
    "    else:\n",
    "        pretrained_weights = pretrained\n",
    "    \n",
    "    # Load weights into the model if pretrained_weights is provided\n",
    "    if pretrained_weights:\n",
    "        if tf.io.gfile.isdir(pretrained_weights):\n",
    "            pretrained_weights = f'{pretrained_weights}/{model_name}.ckpt'\n",
    "        \n",
    "        \n",
    "    swin_transformer_model.load_weights(pretrained_weights)\n",
    "    #####################################\n",
    "\n",
    "    # Swin Transformer Encoder blocks for VSI and TDA images\n",
    "    swin_output_vsi = swin_transformer_model(conv_vsi)\n",
    "    swin_output_tda = swin_transformer_model(conv_tda)\n",
    "\n",
    "    # Concatenate the output features from the Swin Transformer encoders\n",
    "    concatenated = Concatenate()([swin_output_vsi, swin_output_tda])\n",
    "\n",
    "    # Classifier head\n",
    "    classifier_output = Dense(num_classes, activation='softmax')(concatenated)\n",
    "\n",
    "    # Create the Model\n",
    "    model = Model(inputs=[input_vsi, input_tda], outputs=classifier_output)\n",
    "\n",
    "    return model\n",
    "\n",
    "# Define input shapes based on the preprocessed data sizes\n",
    "input_shape_vsi = (224, 224, 1)  # Replace with actual size\n",
    "input_shape_tda = (224, 224, 3)  # Replace with actual size\n",
    "num_classes = 2  # Healthy or Diseased\n",
    "\n",
    "# Create the model\n",
    "model = create_model(input_shape_vsi, input_shape_tda, num_classes)\n",
    "\n",
    "# Compile the model\n",
    "model.compile(optimizer='adam', loss='categorical_crossentropy', metrics=['accuracy'])\n",
    "\n",
    "# Print the model summary\n",
    "model.summary()"
   ]
  },
  {
   "cell_type": "code",
   "execution_count": 13,
   "id": "717d682b-4e7c-4f8e-9190-9829a07f0c13",
   "metadata": {},
   "outputs": [
    {
     "name": "stdout",
     "output_type": "stream",
     "text": [
      "WARNING:tensorflow:Detecting that an object or model or tf.train.Checkpoint is being deleted with unrestored values. See the following logs for the specific values in question. To silence these warnings, use `status.expect_partial()`. See https://www.tensorflow.org/api_docs/python/tf/train/Checkpoint#restorefor details about the status object returned by the restore function.\n",
      "WARNING:tensorflow:Value in checkpoint could not be found in the restored object: (root).norm.gamma\n",
      "WARNING:tensorflow:Value in checkpoint could not be found in the restored object: (root).norm.beta\n",
      "WARNING:tensorflow:Value in checkpoint could not be found in the restored object: (root).patch_embed.proj.kernel\n",
      "WARNING:tensorflow:Value in checkpoint could not be found in the restored object: (root).patch_embed.proj.bias\n",
      "WARNING:tensorflow:Value in checkpoint could not be found in the restored object: (root).patch_embed.norm.gamma\n",
      "WARNING:tensorflow:Value in checkpoint could not be found in the restored object: (root).patch_embed.norm.beta\n",
      "WARNING:tensorflow:Value in checkpoint could not be found in the restored object: (root).basic_layers.layer_with_weights-0.blocks.layer_with_weights-1.attn_mask\n",
      "WARNING:tensorflow:Value in checkpoint could not be found in the restored object: (root).basic_layers.layer_with_weights-0.downsample.reduction.kernel\n",
      "WARNING:tensorflow:Value in checkpoint could not be found in the restored object: (root).basic_layers.layer_with_weights-0.downsample.norm.gamma\n",
      "WARNING:tensorflow:Value in checkpoint could not be found in the restored object: (root).basic_layers.layer_with_weights-0.downsample.norm.beta\n",
      "WARNING:tensorflow:Value in checkpoint could not be found in the restored object: (root).basic_layers.layer_with_weights-1.blocks.layer_with_weights-1.attn_mask\n",
      "WARNING:tensorflow:Value in checkpoint could not be found in the restored object: (root).basic_layers.layer_with_weights-1.downsample.reduction.kernel\n",
      "WARNING:tensorflow:Value in checkpoint could not be found in the restored object: (root).basic_layers.layer_with_weights-1.downsample.norm.gamma\n",
      "WARNING:tensorflow:Value in checkpoint could not be found in the restored object: (root).basic_layers.layer_with_weights-1.downsample.norm.beta\n",
      "WARNING:tensorflow:Value in checkpoint could not be found in the restored object: (root).basic_layers.layer_with_weights-2.blocks.layer_with_weights-1.attn_mask\n",
      "WARNING:tensorflow:Value in checkpoint could not be found in the restored object: (root).basic_layers.layer_with_weights-2.blocks.layer_with_weights-3.attn_mask\n",
      "WARNING:tensorflow:Value in checkpoint could not be found in the restored object: (root).basic_layers.layer_with_weights-2.blocks.layer_with_weights-5.attn_mask\n",
      "WARNING:tensorflow:Value in checkpoint could not be found in the restored object: (root).basic_layers.layer_with_weights-2.downsample.reduction.kernel\n",
      "WARNING:tensorflow:Value in checkpoint could not be found in the restored object: (root).basic_layers.layer_with_weights-2.downsample.norm.gamma\n",
      "WARNING:tensorflow:Value in checkpoint could not be found in the restored object: (root).basic_layers.layer_with_weights-2.downsample.norm.beta\n",
      "WARNING:tensorflow:Value in checkpoint could not be found in the restored object: (root).basic_layers.layer_with_weights-0.blocks.layer_with_weights-0.norm1.gamma\n",
      "WARNING:tensorflow:Value in checkpoint could not be found in the restored object: (root).basic_layers.layer_with_weights-0.blocks.layer_with_weights-0.norm1.beta\n",
      "WARNING:tensorflow:Value in checkpoint could not be found in the restored object: (root).basic_layers.layer_with_weights-0.blocks.layer_with_weights-0.attn.layers0/blocks0/attn/relative_position_bias_table\n",
      "WARNING:tensorflow:Value in checkpoint could not be found in the restored object: (root).basic_layers.layer_with_weights-0.blocks.layer_with_weights-0.attn.relative_position_index\n",
      "WARNING:tensorflow:Value in checkpoint could not be found in the restored object: (root).basic_layers.layer_with_weights-0.blocks.layer_with_weights-0.norm2.gamma\n",
      "WARNING:tensorflow:Value in checkpoint could not be found in the restored object: (root).basic_layers.layer_with_weights-0.blocks.layer_with_weights-0.norm2.beta\n",
      "WARNING:tensorflow:Value in checkpoint could not be found in the restored object: (root).basic_layers.layer_with_weights-0.blocks.layer_with_weights-1.norm1.gamma\n",
      "WARNING:tensorflow:Value in checkpoint could not be found in the restored object: (root).basic_layers.layer_with_weights-0.blocks.layer_with_weights-1.norm1.beta\n",
      "WARNING:tensorflow:Value in checkpoint could not be found in the restored object: (root).basic_layers.layer_with_weights-0.blocks.layer_with_weights-1.attn.layers0/blocks1/attn/relative_position_bias_table\n",
      "WARNING:tensorflow:Value in checkpoint could not be found in the restored object: (root).basic_layers.layer_with_weights-0.blocks.layer_with_weights-1.attn.relative_position_index\n",
      "WARNING:tensorflow:Value in checkpoint could not be found in the restored object: (root).basic_layers.layer_with_weights-0.blocks.layer_with_weights-1.norm2.gamma\n",
      "WARNING:tensorflow:Value in checkpoint could not be found in the restored object: (root).basic_layers.layer_with_weights-0.blocks.layer_with_weights-1.norm2.beta\n",
      "WARNING:tensorflow:Value in checkpoint could not be found in the restored object: (root).basic_layers.layer_with_weights-1.blocks.layer_with_weights-0.norm1.gamma\n",
      "WARNING:tensorflow:Value in checkpoint could not be found in the restored object: (root).basic_layers.layer_with_weights-1.blocks.layer_with_weights-0.norm1.beta\n",
      "WARNING:tensorflow:Value in checkpoint could not be found in the restored object: (root).basic_layers.layer_with_weights-1.blocks.layer_with_weights-0.attn.layers1/blocks0/attn/relative_position_bias_table\n",
      "WARNING:tensorflow:Value in checkpoint could not be found in the restored object: (root).basic_layers.layer_with_weights-1.blocks.layer_with_weights-0.attn.relative_position_index\n",
      "WARNING:tensorflow:Value in checkpoint could not be found in the restored object: (root).basic_layers.layer_with_weights-1.blocks.layer_with_weights-0.norm2.gamma\n",
      "WARNING:tensorflow:Value in checkpoint could not be found in the restored object: (root).basic_layers.layer_with_weights-1.blocks.layer_with_weights-0.norm2.beta\n",
      "WARNING:tensorflow:Value in checkpoint could not be found in the restored object: (root).basic_layers.layer_with_weights-1.blocks.layer_with_weights-1.norm1.gamma\n",
      "WARNING:tensorflow:Value in checkpoint could not be found in the restored object: (root).basic_layers.layer_with_weights-1.blocks.layer_with_weights-1.norm1.beta\n",
      "WARNING:tensorflow:Value in checkpoint could not be found in the restored object: (root).basic_layers.layer_with_weights-1.blocks.layer_with_weights-1.attn.layers1/blocks1/attn/relative_position_bias_table\n",
      "WARNING:tensorflow:Value in checkpoint could not be found in the restored object: (root).basic_layers.layer_with_weights-1.blocks.layer_with_weights-1.attn.relative_position_index\n",
      "WARNING:tensorflow:Value in checkpoint could not be found in the restored object: (root).basic_layers.layer_with_weights-1.blocks.layer_with_weights-1.norm2.gamma\n",
      "WARNING:tensorflow:Value in checkpoint could not be found in the restored object: (root).basic_layers.layer_with_weights-1.blocks.layer_with_weights-1.norm2.beta\n",
      "WARNING:tensorflow:Value in checkpoint could not be found in the restored object: (root).basic_layers.layer_with_weights-2.blocks.layer_with_weights-0.norm1.gamma\n",
      "WARNING:tensorflow:Value in checkpoint could not be found in the restored object: (root).basic_layers.layer_with_weights-2.blocks.layer_with_weights-0.norm1.beta\n",
      "WARNING:tensorflow:Value in checkpoint could not be found in the restored object: (root).basic_layers.layer_with_weights-2.blocks.layer_with_weights-0.attn.layers2/blocks0/attn/relative_position_bias_table\n",
      "WARNING:tensorflow:Value in checkpoint could not be found in the restored object: (root).basic_layers.layer_with_weights-2.blocks.layer_with_weights-0.attn.relative_position_index\n",
      "WARNING:tensorflow:Value in checkpoint could not be found in the restored object: (root).basic_layers.layer_with_weights-2.blocks.layer_with_weights-0.norm2.gamma\n",
      "WARNING:tensorflow:Value in checkpoint could not be found in the restored object: (root).basic_layers.layer_with_weights-2.blocks.layer_with_weights-0.norm2.beta\n",
      "WARNING:tensorflow:Value in checkpoint could not be found in the restored object: (root).basic_layers.layer_with_weights-2.blocks.layer_with_weights-1.norm1.gamma\n",
      "WARNING:tensorflow:Value in checkpoint could not be found in the restored object: (root).basic_layers.layer_with_weights-2.blocks.layer_with_weights-1.norm1.beta\n",
      "WARNING:tensorflow:Value in checkpoint could not be found in the restored object: (root).basic_layers.layer_with_weights-2.blocks.layer_with_weights-1.attn.layers2/blocks1/attn/relative_position_bias_table\n",
      "WARNING:tensorflow:Value in checkpoint could not be found in the restored object: (root).basic_layers.layer_with_weights-2.blocks.layer_with_weights-1.attn.relative_position_index\n",
      "WARNING:tensorflow:Value in checkpoint could not be found in the restored object: (root).basic_layers.layer_with_weights-2.blocks.layer_with_weights-1.norm2.gamma\n",
      "WARNING:tensorflow:Value in checkpoint could not be found in the restored object: (root).basic_layers.layer_with_weights-2.blocks.layer_with_weights-1.norm2.beta\n",
      "WARNING:tensorflow:Value in checkpoint could not be found in the restored object: (root).basic_layers.layer_with_weights-2.blocks.layer_with_weights-2.norm1.gamma\n",
      "WARNING:tensorflow:Value in checkpoint could not be found in the restored object: (root).basic_layers.layer_with_weights-2.blocks.layer_with_weights-2.norm1.beta\n",
      "WARNING:tensorflow:Value in checkpoint could not be found in the restored object: (root).basic_layers.layer_with_weights-2.blocks.layer_with_weights-2.attn.layers2/blocks2/attn/relative_position_bias_table\n",
      "WARNING:tensorflow:Value in checkpoint could not be found in the restored object: (root).basic_layers.layer_with_weights-2.blocks.layer_with_weights-2.attn.relative_position_index\n",
      "WARNING:tensorflow:Value in checkpoint could not be found in the restored object: (root).basic_layers.layer_with_weights-2.blocks.layer_with_weights-2.norm2.gamma\n",
      "WARNING:tensorflow:Value in checkpoint could not be found in the restored object: (root).basic_layers.layer_with_weights-2.blocks.layer_with_weights-2.norm2.beta\n",
      "WARNING:tensorflow:Value in checkpoint could not be found in the restored object: (root).basic_layers.layer_with_weights-2.blocks.layer_with_weights-3.norm1.gamma\n",
      "WARNING:tensorflow:Value in checkpoint could not be found in the restored object: (root).basic_layers.layer_with_weights-2.blocks.layer_with_weights-3.norm1.beta\n",
      "WARNING:tensorflow:Value in checkpoint could not be found in the restored object: (root).basic_layers.layer_with_weights-2.blocks.layer_with_weights-3.attn.layers2/blocks3/attn/relative_position_bias_table\n",
      "WARNING:tensorflow:Value in checkpoint could not be found in the restored object: (root).basic_layers.layer_with_weights-2.blocks.layer_with_weights-3.attn.relative_position_index\n",
      "WARNING:tensorflow:Value in checkpoint could not be found in the restored object: (root).basic_layers.layer_with_weights-2.blocks.layer_with_weights-3.norm2.gamma\n",
      "WARNING:tensorflow:Value in checkpoint could not be found in the restored object: (root).basic_layers.layer_with_weights-2.blocks.layer_with_weights-3.norm2.beta\n",
      "WARNING:tensorflow:Value in checkpoint could not be found in the restored object: (root).basic_layers.layer_with_weights-2.blocks.layer_with_weights-4.norm1.gamma\n",
      "WARNING:tensorflow:Value in checkpoint could not be found in the restored object: (root).basic_layers.layer_with_weights-2.blocks.layer_with_weights-4.norm1.beta\n",
      "WARNING:tensorflow:Value in checkpoint could not be found in the restored object: (root).basic_layers.layer_with_weights-2.blocks.layer_with_weights-4.attn.layers2/blocks4/attn/relative_position_bias_table\n",
      "WARNING:tensorflow:Value in checkpoint could not be found in the restored object: (root).basic_layers.layer_with_weights-2.blocks.layer_with_weights-4.attn.relative_position_index\n",
      "WARNING:tensorflow:Value in checkpoint could not be found in the restored object: (root).basic_layers.layer_with_weights-2.blocks.layer_with_weights-4.norm2.gamma\n",
      "WARNING:tensorflow:Value in checkpoint could not be found in the restored object: (root).basic_layers.layer_with_weights-2.blocks.layer_with_weights-4.norm2.beta\n",
      "WARNING:tensorflow:Value in checkpoint could not be found in the restored object: (root).basic_layers.layer_with_weights-2.blocks.layer_with_weights-5.norm1.gamma\n",
      "WARNING:tensorflow:Value in checkpoint could not be found in the restored object: (root).basic_layers.layer_with_weights-2.blocks.layer_with_weights-5.norm1.beta\n",
      "WARNING:tensorflow:Value in checkpoint could not be found in the restored object: (root).basic_layers.layer_with_weights-2.blocks.layer_with_weights-5.attn.layers2/blocks5/attn/relative_position_bias_table\n",
      "WARNING:tensorflow:Value in checkpoint could not be found in the restored object: (root).basic_layers.layer_with_weights-2.blocks.layer_with_weights-5.attn.relative_position_index\n",
      "WARNING:tensorflow:Value in checkpoint could not be found in the restored object: (root).basic_layers.layer_with_weights-2.blocks.layer_with_weights-5.norm2.gamma\n",
      "WARNING:tensorflow:Value in checkpoint could not be found in the restored object: (root).basic_layers.layer_with_weights-2.blocks.layer_with_weights-5.norm2.beta\n",
      "WARNING:tensorflow:Value in checkpoint could not be found in the restored object: (root).basic_layers.layer_with_weights-3.blocks.layer_with_weights-0.norm1.gamma\n",
      "WARNING:tensorflow:Value in checkpoint could not be found in the restored object: (root).basic_layers.layer_with_weights-3.blocks.layer_with_weights-0.norm1.beta\n",
      "WARNING:tensorflow:Value in checkpoint could not be found in the restored object: (root).basic_layers.layer_with_weights-3.blocks.layer_with_weights-0.attn.layers3/blocks0/attn/relative_position_bias_table\n",
      "WARNING:tensorflow:Value in checkpoint could not be found in the restored object: (root).basic_layers.layer_with_weights-3.blocks.layer_with_weights-0.attn.relative_position_index\n",
      "WARNING:tensorflow:Value in checkpoint could not be found in the restored object: (root).basic_layers.layer_with_weights-3.blocks.layer_with_weights-0.norm2.gamma\n",
      "WARNING:tensorflow:Value in checkpoint could not be found in the restored object: (root).basic_layers.layer_with_weights-3.blocks.layer_with_weights-0.norm2.beta\n",
      "WARNING:tensorflow:Value in checkpoint could not be found in the restored object: (root).basic_layers.layer_with_weights-3.blocks.layer_with_weights-1.norm1.gamma\n",
      "WARNING:tensorflow:Value in checkpoint could not be found in the restored object: (root).basic_layers.layer_with_weights-3.blocks.layer_with_weights-1.norm1.beta\n",
      "WARNING:tensorflow:Value in checkpoint could not be found in the restored object: (root).basic_layers.layer_with_weights-3.blocks.layer_with_weights-1.attn.layers3/blocks1/attn/relative_position_bias_table\n",
      "WARNING:tensorflow:Value in checkpoint could not be found in the restored object: (root).basic_layers.layer_with_weights-3.blocks.layer_with_weights-1.attn.relative_position_index\n",
      "WARNING:tensorflow:Value in checkpoint could not be found in the restored object: (root).basic_layers.layer_with_weights-3.blocks.layer_with_weights-1.norm2.gamma\n",
      "WARNING:tensorflow:Value in checkpoint could not be found in the restored object: (root).basic_layers.layer_with_weights-3.blocks.layer_with_weights-1.norm2.beta\n",
      "WARNING:tensorflow:Value in checkpoint could not be found in the restored object: (root).basic_layers.layer_with_weights-0.blocks.layer_with_weights-0.attn.qkv.kernel\n",
      "WARNING:tensorflow:Value in checkpoint could not be found in the restored object: (root).basic_layers.layer_with_weights-0.blocks.layer_with_weights-0.attn.qkv.bias\n",
      "WARNING:tensorflow:Value in checkpoint could not be found in the restored object: (root).basic_layers.layer_with_weights-0.blocks.layer_with_weights-0.attn.proj.kernel\n",
      "WARNING:tensorflow:Value in checkpoint could not be found in the restored object: (root).basic_layers.layer_with_weights-0.blocks.layer_with_weights-0.attn.proj.bias\n",
      "WARNING:tensorflow:Value in checkpoint could not be found in the restored object: (root).basic_layers.layer_with_weights-0.blocks.layer_with_weights-0.mlp.fc1.kernel\n",
      "WARNING:tensorflow:Value in checkpoint could not be found in the restored object: (root).basic_layers.layer_with_weights-0.blocks.layer_with_weights-0.mlp.fc1.bias\n",
      "WARNING:tensorflow:Value in checkpoint could not be found in the restored object: (root).basic_layers.layer_with_weights-0.blocks.layer_with_weights-0.mlp.fc2.kernel\n",
      "WARNING:tensorflow:Value in checkpoint could not be found in the restored object: (root).basic_layers.layer_with_weights-0.blocks.layer_with_weights-0.mlp.fc2.bias\n",
      "WARNING:tensorflow:Value in checkpoint could not be found in the restored object: (root).basic_layers.layer_with_weights-0.blocks.layer_with_weights-1.attn.qkv.kernel\n",
      "WARNING:tensorflow:Value in checkpoint could not be found in the restored object: (root).basic_layers.layer_with_weights-0.blocks.layer_with_weights-1.attn.qkv.bias\n",
      "WARNING:tensorflow:Value in checkpoint could not be found in the restored object: (root).basic_layers.layer_with_weights-0.blocks.layer_with_weights-1.attn.proj.kernel\n",
      "WARNING:tensorflow:Value in checkpoint could not be found in the restored object: (root).basic_layers.layer_with_weights-0.blocks.layer_with_weights-1.attn.proj.bias\n",
      "WARNING:tensorflow:Value in checkpoint could not be found in the restored object: (root).basic_layers.layer_with_weights-0.blocks.layer_with_weights-1.mlp.fc1.kernel\n",
      "WARNING:tensorflow:Value in checkpoint could not be found in the restored object: (root).basic_layers.layer_with_weights-0.blocks.layer_with_weights-1.mlp.fc1.bias\n",
      "WARNING:tensorflow:Value in checkpoint could not be found in the restored object: (root).basic_layers.layer_with_weights-0.blocks.layer_with_weights-1.mlp.fc2.kernel\n",
      "WARNING:tensorflow:Value in checkpoint could not be found in the restored object: (root).basic_layers.layer_with_weights-0.blocks.layer_with_weights-1.mlp.fc2.bias\n",
      "WARNING:tensorflow:Value in checkpoint could not be found in the restored object: (root).basic_layers.layer_with_weights-1.blocks.layer_with_weights-0.attn.qkv.kernel\n",
      "WARNING:tensorflow:Value in checkpoint could not be found in the restored object: (root).basic_layers.layer_with_weights-1.blocks.layer_with_weights-0.attn.qkv.bias\n",
      "WARNING:tensorflow:Value in checkpoint could not be found in the restored object: (root).basic_layers.layer_with_weights-1.blocks.layer_with_weights-0.attn.proj.kernel\n",
      "WARNING:tensorflow:Value in checkpoint could not be found in the restored object: (root).basic_layers.layer_with_weights-1.blocks.layer_with_weights-0.attn.proj.bias\n",
      "WARNING:tensorflow:Value in checkpoint could not be found in the restored object: (root).basic_layers.layer_with_weights-1.blocks.layer_with_weights-0.mlp.fc1.kernel\n",
      "WARNING:tensorflow:Value in checkpoint could not be found in the restored object: (root).basic_layers.layer_with_weights-1.blocks.layer_with_weights-0.mlp.fc1.bias\n",
      "WARNING:tensorflow:Value in checkpoint could not be found in the restored object: (root).basic_layers.layer_with_weights-1.blocks.layer_with_weights-0.mlp.fc2.kernel\n",
      "WARNING:tensorflow:Value in checkpoint could not be found in the restored object: (root).basic_layers.layer_with_weights-1.blocks.layer_with_weights-0.mlp.fc2.bias\n",
      "WARNING:tensorflow:Value in checkpoint could not be found in the restored object: (root).basic_layers.layer_with_weights-1.blocks.layer_with_weights-1.attn.qkv.kernel\n",
      "WARNING:tensorflow:Value in checkpoint could not be found in the restored object: (root).basic_layers.layer_with_weights-1.blocks.layer_with_weights-1.attn.qkv.bias\n",
      "WARNING:tensorflow:Value in checkpoint could not be found in the restored object: (root).basic_layers.layer_with_weights-1.blocks.layer_with_weights-1.attn.proj.kernel\n",
      "WARNING:tensorflow:Value in checkpoint could not be found in the restored object: (root).basic_layers.layer_with_weights-1.blocks.layer_with_weights-1.attn.proj.bias\n",
      "WARNING:tensorflow:Value in checkpoint could not be found in the restored object: (root).basic_layers.layer_with_weights-1.blocks.layer_with_weights-1.mlp.fc1.kernel\n",
      "WARNING:tensorflow:Value in checkpoint could not be found in the restored object: (root).basic_layers.layer_with_weights-1.blocks.layer_with_weights-1.mlp.fc1.bias\n",
      "WARNING:tensorflow:Value in checkpoint could not be found in the restored object: (root).basic_layers.layer_with_weights-1.blocks.layer_with_weights-1.mlp.fc2.kernel\n",
      "WARNING:tensorflow:Value in checkpoint could not be found in the restored object: (root).basic_layers.layer_with_weights-1.blocks.layer_with_weights-1.mlp.fc2.bias\n",
      "WARNING:tensorflow:Value in checkpoint could not be found in the restored object: (root).basic_layers.layer_with_weights-2.blocks.layer_with_weights-0.attn.qkv.kernel\n",
      "WARNING:tensorflow:Value in checkpoint could not be found in the restored object: (root).basic_layers.layer_with_weights-2.blocks.layer_with_weights-0.attn.qkv.bias\n",
      "WARNING:tensorflow:Value in checkpoint could not be found in the restored object: (root).basic_layers.layer_with_weights-2.blocks.layer_with_weights-0.attn.proj.kernel\n",
      "WARNING:tensorflow:Value in checkpoint could not be found in the restored object: (root).basic_layers.layer_with_weights-2.blocks.layer_with_weights-0.attn.proj.bias\n",
      "WARNING:tensorflow:Value in checkpoint could not be found in the restored object: (root).basic_layers.layer_with_weights-2.blocks.layer_with_weights-0.mlp.fc1.kernel\n",
      "WARNING:tensorflow:Value in checkpoint could not be found in the restored object: (root).basic_layers.layer_with_weights-2.blocks.layer_with_weights-0.mlp.fc1.bias\n",
      "WARNING:tensorflow:Value in checkpoint could not be found in the restored object: (root).basic_layers.layer_with_weights-2.blocks.layer_with_weights-0.mlp.fc2.kernel\n",
      "WARNING:tensorflow:Value in checkpoint could not be found in the restored object: (root).basic_layers.layer_with_weights-2.blocks.layer_with_weights-0.mlp.fc2.bias\n",
      "WARNING:tensorflow:Value in checkpoint could not be found in the restored object: (root).basic_layers.layer_with_weights-2.blocks.layer_with_weights-1.attn.qkv.kernel\n",
      "WARNING:tensorflow:Value in checkpoint could not be found in the restored object: (root).basic_layers.layer_with_weights-2.blocks.layer_with_weights-1.attn.qkv.bias\n",
      "WARNING:tensorflow:Value in checkpoint could not be found in the restored object: (root).basic_layers.layer_with_weights-2.blocks.layer_with_weights-1.attn.proj.kernel\n",
      "WARNING:tensorflow:Value in checkpoint could not be found in the restored object: (root).basic_layers.layer_with_weights-2.blocks.layer_with_weights-1.attn.proj.bias\n",
      "WARNING:tensorflow:Value in checkpoint could not be found in the restored object: (root).basic_layers.layer_with_weights-2.blocks.layer_with_weights-1.mlp.fc1.kernel\n",
      "WARNING:tensorflow:Value in checkpoint could not be found in the restored object: (root).basic_layers.layer_with_weights-2.blocks.layer_with_weights-1.mlp.fc1.bias\n",
      "WARNING:tensorflow:Value in checkpoint could not be found in the restored object: (root).basic_layers.layer_with_weights-2.blocks.layer_with_weights-1.mlp.fc2.kernel\n",
      "WARNING:tensorflow:Value in checkpoint could not be found in the restored object: (root).basic_layers.layer_with_weights-2.blocks.layer_with_weights-1.mlp.fc2.bias\n",
      "WARNING:tensorflow:Value in checkpoint could not be found in the restored object: (root).basic_layers.layer_with_weights-2.blocks.layer_with_weights-2.attn.qkv.kernel\n",
      "WARNING:tensorflow:Value in checkpoint could not be found in the restored object: (root).basic_layers.layer_with_weights-2.blocks.layer_with_weights-2.attn.qkv.bias\n",
      "WARNING:tensorflow:Value in checkpoint could not be found in the restored object: (root).basic_layers.layer_with_weights-2.blocks.layer_with_weights-2.attn.proj.kernel\n",
      "WARNING:tensorflow:Value in checkpoint could not be found in the restored object: (root).basic_layers.layer_with_weights-2.blocks.layer_with_weights-2.attn.proj.bias\n",
      "WARNING:tensorflow:Value in checkpoint could not be found in the restored object: (root).basic_layers.layer_with_weights-2.blocks.layer_with_weights-2.mlp.fc1.kernel\n",
      "WARNING:tensorflow:Value in checkpoint could not be found in the restored object: (root).basic_layers.layer_with_weights-2.blocks.layer_with_weights-2.mlp.fc1.bias\n",
      "WARNING:tensorflow:Value in checkpoint could not be found in the restored object: (root).basic_layers.layer_with_weights-2.blocks.layer_with_weights-2.mlp.fc2.kernel\n",
      "WARNING:tensorflow:Value in checkpoint could not be found in the restored object: (root).basic_layers.layer_with_weights-2.blocks.layer_with_weights-2.mlp.fc2.bias\n",
      "WARNING:tensorflow:Value in checkpoint could not be found in the restored object: (root).basic_layers.layer_with_weights-2.blocks.layer_with_weights-3.attn.qkv.kernel\n",
      "WARNING:tensorflow:Value in checkpoint could not be found in the restored object: (root).basic_layers.layer_with_weights-2.blocks.layer_with_weights-3.attn.qkv.bias\n",
      "WARNING:tensorflow:Value in checkpoint could not be found in the restored object: (root).basic_layers.layer_with_weights-2.blocks.layer_with_weights-3.attn.proj.kernel\n",
      "WARNING:tensorflow:Value in checkpoint could not be found in the restored object: (root).basic_layers.layer_with_weights-2.blocks.layer_with_weights-3.attn.proj.bias\n",
      "WARNING:tensorflow:Value in checkpoint could not be found in the restored object: (root).basic_layers.layer_with_weights-2.blocks.layer_with_weights-3.mlp.fc1.kernel\n",
      "WARNING:tensorflow:Value in checkpoint could not be found in the restored object: (root).basic_layers.layer_with_weights-2.blocks.layer_with_weights-3.mlp.fc1.bias\n",
      "WARNING:tensorflow:Value in checkpoint could not be found in the restored object: (root).basic_layers.layer_with_weights-2.blocks.layer_with_weights-3.mlp.fc2.kernel\n",
      "WARNING:tensorflow:Value in checkpoint could not be found in the restored object: (root).basic_layers.layer_with_weights-2.blocks.layer_with_weights-3.mlp.fc2.bias\n",
      "WARNING:tensorflow:Value in checkpoint could not be found in the restored object: (root).basic_layers.layer_with_weights-2.blocks.layer_with_weights-4.attn.qkv.kernel\n",
      "WARNING:tensorflow:Value in checkpoint could not be found in the restored object: (root).basic_layers.layer_with_weights-2.blocks.layer_with_weights-4.attn.qkv.bias\n",
      "WARNING:tensorflow:Value in checkpoint could not be found in the restored object: (root).basic_layers.layer_with_weights-2.blocks.layer_with_weights-4.attn.proj.kernel\n",
      "WARNING:tensorflow:Value in checkpoint could not be found in the restored object: (root).basic_layers.layer_with_weights-2.blocks.layer_with_weights-4.attn.proj.bias\n",
      "WARNING:tensorflow:Value in checkpoint could not be found in the restored object: (root).basic_layers.layer_with_weights-2.blocks.layer_with_weights-4.mlp.fc1.kernel\n",
      "WARNING:tensorflow:Value in checkpoint could not be found in the restored object: (root).basic_layers.layer_with_weights-2.blocks.layer_with_weights-4.mlp.fc1.bias\n",
      "WARNING:tensorflow:Value in checkpoint could not be found in the restored object: (root).basic_layers.layer_with_weights-2.blocks.layer_with_weights-4.mlp.fc2.kernel\n",
      "WARNING:tensorflow:Value in checkpoint could not be found in the restored object: (root).basic_layers.layer_with_weights-2.blocks.layer_with_weights-4.mlp.fc2.bias\n",
      "WARNING:tensorflow:Value in checkpoint could not be found in the restored object: (root).basic_layers.layer_with_weights-2.blocks.layer_with_weights-5.attn.qkv.kernel\n",
      "WARNING:tensorflow:Value in checkpoint could not be found in the restored object: (root).basic_layers.layer_with_weights-2.blocks.layer_with_weights-5.attn.qkv.bias\n",
      "WARNING:tensorflow:Value in checkpoint could not be found in the restored object: (root).basic_layers.layer_with_weights-2.blocks.layer_with_weights-5.attn.proj.kernel\n",
      "WARNING:tensorflow:Value in checkpoint could not be found in the restored object: (root).basic_layers.layer_with_weights-2.blocks.layer_with_weights-5.attn.proj.bias\n",
      "WARNING:tensorflow:Value in checkpoint could not be found in the restored object: (root).basic_layers.layer_with_weights-2.blocks.layer_with_weights-5.mlp.fc1.kernel\n",
      "WARNING:tensorflow:Value in checkpoint could not be found in the restored object: (root).basic_layers.layer_with_weights-2.blocks.layer_with_weights-5.mlp.fc1.bias\n",
      "WARNING:tensorflow:Value in checkpoint could not be found in the restored object: (root).basic_layers.layer_with_weights-2.blocks.layer_with_weights-5.mlp.fc2.kernel\n",
      "WARNING:tensorflow:Value in checkpoint could not be found in the restored object: (root).basic_layers.layer_with_weights-2.blocks.layer_with_weights-5.mlp.fc2.bias\n",
      "WARNING:tensorflow:Value in checkpoint could not be found in the restored object: (root).basic_layers.layer_with_weights-3.blocks.layer_with_weights-0.attn.qkv.kernel\n",
      "WARNING:tensorflow:Value in checkpoint could not be found in the restored object: (root).basic_layers.layer_with_weights-3.blocks.layer_with_weights-0.attn.qkv.bias\n",
      "WARNING:tensorflow:Value in checkpoint could not be found in the restored object: (root).basic_layers.layer_with_weights-3.blocks.layer_with_weights-0.attn.proj.kernel\n",
      "WARNING:tensorflow:Value in checkpoint could not be found in the restored object: (root).basic_layers.layer_with_weights-3.blocks.layer_with_weights-0.attn.proj.bias\n",
      "WARNING:tensorflow:Value in checkpoint could not be found in the restored object: (root).basic_layers.layer_with_weights-3.blocks.layer_with_weights-0.mlp.fc1.kernel\n",
      "WARNING:tensorflow:Value in checkpoint could not be found in the restored object: (root).basic_layers.layer_with_weights-3.blocks.layer_with_weights-0.mlp.fc1.bias\n",
      "WARNING:tensorflow:Value in checkpoint could not be found in the restored object: (root).basic_layers.layer_with_weights-3.blocks.layer_with_weights-0.mlp.fc2.kernel\n",
      "WARNING:tensorflow:Value in checkpoint could not be found in the restored object: (root).basic_layers.layer_with_weights-3.blocks.layer_with_weights-0.mlp.fc2.bias\n",
      "WARNING:tensorflow:Value in checkpoint could not be found in the restored object: (root).basic_layers.layer_with_weights-3.blocks.layer_with_weights-1.attn.qkv.kernel\n",
      "WARNING:tensorflow:Value in checkpoint could not be found in the restored object: (root).basic_layers.layer_with_weights-3.blocks.layer_with_weights-1.attn.qkv.bias\n",
      "WARNING:tensorflow:Value in checkpoint could not be found in the restored object: (root).basic_layers.layer_with_weights-3.blocks.layer_with_weights-1.attn.proj.kernel\n",
      "WARNING:tensorflow:Value in checkpoint could not be found in the restored object: (root).basic_layers.layer_with_weights-3.blocks.layer_with_weights-1.attn.proj.bias\n",
      "WARNING:tensorflow:Value in checkpoint could not be found in the restored object: (root).basic_layers.layer_with_weights-3.blocks.layer_with_weights-1.mlp.fc1.kernel\n",
      "WARNING:tensorflow:Value in checkpoint could not be found in the restored object: (root).basic_layers.layer_with_weights-3.blocks.layer_with_weights-1.mlp.fc1.bias\n",
      "WARNING:tensorflow:Value in checkpoint could not be found in the restored object: (root).basic_layers.layer_with_weights-3.blocks.layer_with_weights-1.mlp.fc2.kernel\n",
      "WARNING:tensorflow:Value in checkpoint could not be found in the restored object: (root).basic_layers.layer_with_weights-3.blocks.layer_with_weights-1.mlp.fc2.bias\n",
      "Model: \"model_1\"\n",
      "__________________________________________________________________________________________________\n",
      " Layer (type)                Output Shape                 Param #   Connected to                  \n",
      "==================================================================================================\n",
      " input_4 (InputLayer)        [(None, 224, 224, 1)]        0         []                            \n",
      "                                                                                                  \n",
      " input_5 (InputLayer)        [(None, 224, 224, 3)]        0         []                            \n",
      "                                                                                                  \n",
      " conv2d_2 (Conv2D)           (None, 224, 224, 64)         640       ['input_4[0][0]']             \n",
      "                                                                                                  \n",
      " conv2d_3 (Conv2D)           (None, 224, 224, 64)         1792      ['input_5[0][0]']             \n",
      "                                                                                                  \n",
      " SwinTransformer (SwinTrans  (None, 768)                  4926709   ['conv2d_2[0][0]',            \n",
      " formerModel)                                             4          'conv2d_3[0][0]']            \n",
      "                                                                                                  \n",
      " concatenate_1 (Concatenate  (None, 1536)                 0         ['SwinTransformer[0][0]',     \n",
      " )                                                                   'SwinTransformer[1][0]']     \n",
      "                                                                                                  \n",
      " dense_1 (Dense)             (None, 2)                    3074      ['concatenate_1[0][0]']       \n",
      "                                                                                                  \n",
      "==================================================================================================\n",
      "Total params: 49272600 (189.24 MB)\n",
      "Trainable params: 48936460 (186.68 MB)\n",
      "Non-trainable params: 336140 (2.56 MB)\n",
      "__________________________________________________________________________________________________\n"
     ]
    }
   ],
   "source": [
    "input_shape_vsi = (224, 224, 1)  # Replace with actual size\n",
    "input_shape_tda = (224, 224, 3)  # Replace with actual size\n",
    "num_classes = 2  # Healthy or Diseased\n",
    "\n",
    "# Create the model\n",
    "model1 = create_model(input_shape_vsi, input_shape_tda, num_classes, swin_model_type='swin_small_224', pretrained=True)\n",
    "\n",
    "# Compile the model\n",
    "model1.compile(optimizer='adam', loss='categorical_crossentropy', metrics=['accuracy'])\n",
    "\n",
    "# Print the model summary\n",
    "model1.summary()"
   ]
  },
  {
   "cell_type": "markdown",
   "id": "6b0ec26d-35a5-4b70-bed5-da0ca09955b5",
   "metadata": {},
   "source": [
    "## Implementation 2"
   ]
  },
  {
   "cell_type": "code",
   "execution_count": 14,
   "id": "fbe62f03-7179-49c4-b58f-90442efb4c88",
   "metadata": {},
   "outputs": [
    {
     "name": "stdout",
     "output_type": "stream",
     "text": [
      "Model: \"model_2\"\n",
      "__________________________________________________________________________________________________\n",
      " Layer (type)                Output Shape                 Param #   Connected to                  \n",
      "==================================================================================================\n",
      " input_6 (InputLayer)        [(None, 224, 224, 3)]        0         []                            \n",
      "                                                                                                  \n",
      " input_7 (InputLayer)        [(None, 224, 224, 1)]        0         []                            \n",
      "                                                                                                  \n",
      " input_8 (InputLayer)        [(None, 224, 224, 3)]        0         []                            \n",
      "                                                                                                  \n",
      " conv2d_4 (Conv2D)           (None, 224, 224, 64)         1792      ['input_6[0][0]']             \n",
      "                                                                                                  \n",
      " conv2d_5 (Conv2D)           (None, 224, 224, 64)         640       ['input_7[0][0]']             \n",
      "                                                                                                  \n",
      " conv2d_6 (Conv2D)           (None, 224, 224, 64)         1792      ['input_8[0][0]']             \n",
      "                                                                                                  \n",
      " SwinTransformer (SwinTrans  (None, 768)                  4931475   ['conv2d_4[0][0]',            \n",
      " formerModel)                                             2          'conv2d_5[0][0]',            \n",
      "                                                                     'conv2d_6[0][0]']            \n",
      "                                                                                                  \n",
      " concatenate_2 (Concatenate  (None, 2304)                 0         ['SwinTransformer[0][0]',     \n",
      " )                                                                   'SwinTransformer[1][0]',     \n",
      "                                                                     'SwinTransformer[2][0]']     \n",
      "                                                                                                  \n",
      " dense_2 (Dense)             (None, 2)                    4610      ['concatenate_2[0][0]']       \n",
      "                                                                                                  \n",
      "==================================================================================================\n",
      "Total params: 49323586 (189.44 MB)\n",
      "Trainable params: 48987446 (186.87 MB)\n",
      "Non-trainable params: 336140 (2.56 MB)\n",
      "__________________________________________________________________________________________________\n"
     ]
    }
   ],
   "source": [
    "import tensorflow as tf\n",
    "from tensorflow.keras.layers import Input, Conv2D, Dense, Concatenate\n",
    "from tensorflow.keras.models import Model\n",
    "from swin_transformer_final import SwinTransformerModel, CFGS\n",
    "\n",
    "def create_model(input_shape_rgb, input_shape_vsi, input_shape_tda, num_classes, pretrained=True, swin_model_type='swin_tiny_224'):\n",
    "    # Inputs for RGB, VSI, and TDA images\n",
    "    input_rgb = Input(shape=input_shape_rgb)\n",
    "    input_vsi = Input(shape=input_shape_vsi)\n",
    "    input_tda = Input(shape=input_shape_tda)\n",
    "\n",
    "    # Initial Convolutional layer for each input\n",
    "    conv_rgb = Conv2D(filters=64, kernel_size=(3, 3), activation='relu', padding='same')(input_rgb)\n",
    "    conv_vsi = Conv2D(filters=64, kernel_size=(3, 3), activation='relu', padding='same')(input_vsi)\n",
    "    conv_tda = Conv2D(filters=64, kernel_size=(3, 3), activation='relu', padding='same')(input_tda)\n",
    "\n",
    "    # Load the Swin Transformer model configuration\n",
    "    swin_config = CFGS[swin_model_type]\n",
    "    swin_transformer_model = SwinTransformerModel(include_top=False, num_classes=num_classes, **swin_config)\n",
    "    model_name = swin_model_type\n",
    "\n",
    "    ###################################\n",
    "    if pretrained is True:\n",
    "        url = f'https://github.com/rishigami/Swin-Transformer-TF/releases/download/v0.1-tf-swin-weights/{model_name}.tgz'\n",
    "        pretrained_weights = tf.keras.utils.get_file(model_name, url, untar=True)\n",
    "    else:\n",
    "        pretrained_weights = pretrained\n",
    "    \n",
    "    # Load weights into the model if pretrained_weights is provided\n",
    "    if pretrained_weights:\n",
    "        if tf.io.gfile.isdir(pretrained_weights):\n",
    "            pretrained_weights = f'{pretrained_weights}/{model_name}.ckpt'\n",
    "        \n",
    "        \n",
    "    swin_transformer_model.load_weights(pretrained_weights)\n",
    "    #####################################\n",
    "\n",
    "    # Swin Transformer Encoder blocks for RGB, VSI, and TDA images\n",
    "    swin_output_rgb = swin_transformer_model(conv_rgb)\n",
    "    swin_output_vsi = swin_transformer_model(conv_vsi)\n",
    "    swin_output_tda = swin_transformer_model(conv_tda)\n",
    "\n",
    "    # Concatenate the output features from all Swin Transformer encoders\n",
    "    concatenated = Concatenate()([swin_output_rgb, swin_output_vsi, swin_output_tda])\n",
    "\n",
    "    # Classifier head\n",
    "    classifier_output = Dense(num_classes, activation='softmax')(concatenated)\n",
    "\n",
    "    # Create the Model\n",
    "    model = Model(inputs=[input_rgb, input_vsi, input_tda], outputs=classifier_output)\n",
    "\n",
    "    return model\n",
    "\n",
    "# Define input shapes based on the preprocessed data sizes\n",
    "input_shape_rgb = (224, 224, 3)  # Adjust based on your RGB image size\n",
    "input_shape_vsi = (224, 224, 1)  # Replace with actual size for VSI images\n",
    "input_shape_tda = (224, 224, 3)  # Replace with actual size for TDA images\n",
    "num_classes = 2  # Healthy or Diseased\n",
    "\n",
    "# Create the model\n",
    "model = create_model(input_shape_rgb, input_shape_vsi, input_shape_tda, num_classes, swin_model_type='swin_large_224')\n",
    "\n",
    "# Compile the model\n",
    "model.compile(optimizer='adam', loss='categorical_crossentropy', metrics=['accuracy'])\n",
    "\n",
    "# Print the model summary to verify the architecture\n",
    "model.summary()"
   ]
  },
  {
   "cell_type": "markdown",
   "id": "8b2d0c05-acf4-4bd1-aeaf-97402dfe8628",
   "metadata": {},
   "source": [
    "## Implementation 3"
   ]
  },
  {
   "cell_type": "code",
   "execution_count": 5,
   "id": "bd01e8ef-10f6-4c9c-9901-75c682752737",
   "metadata": {},
   "outputs": [
    {
     "name": "stdout",
     "output_type": "stream",
     "text": [
      "Model: \"model_1\"\n",
      "__________________________________________________________________________________________________\n",
      " Layer (type)                Output Shape                 Param #   Connected to                  \n",
      "==================================================================================================\n",
      " input_rgb (InputLayer)      [(None, 224, 224, 3)]        0         []                            \n",
      "                                                                                                  \n",
      " input_8 (InputLayer)        [(None, 224, 224, 3)]        0         []                            \n",
      "                                                                                                  \n",
      " input_tda (InputLayer)      [(None, 224, 224, 3)]        0         []                            \n",
      "                                                                                                  \n",
      " swin_small_224_encoder_rgb  (None, 1000)                 4994239   ['input_rgb[0][0]']           \n",
      "  (Functional)                                            8                                       \n",
      "                                                                                                  \n",
      " swin_small_224_encoder_vsi  (None, 1000)                 4994239   ['input_8[0][0]']             \n",
      "  (Functional)                                            8                                       \n",
      "                                                                                                  \n",
      " swin_small_224_encoder_tda  (None, 1000)                 4994239   ['input_tda[0][0]']           \n",
      "  (Functional)                                            8                                       \n",
      "                                                                                                  \n",
      " concatenate_1 (Concatenate  (None, 3000)                 0         ['swin_small_224_encoder_rgb[1\n",
      " )                                                                  ][0]',                        \n",
      "                                                                     'swin_small_224_encoder_vsi[1\n",
      "                                                                    ][0]',                        \n",
      "                                                                     'swin_small_224_encoder_tda[1\n",
      "                                                                    ][0]']                        \n",
      "                                                                                                  \n",
      " classifier (Dense)          (None, 2)                    6002      ['concatenate_1[1][0]']       \n",
      "                                                                                                  \n",
      "==================================================================================================\n",
      "Total params: 149833196 (575.42 MB)\n",
      "Trainable params: 148824776 (567.72 MB)\n",
      "Non-trainable params: 1008420 (7.69 MB)\n",
      "__________________________________________________________________________________________________\n"
     ]
    }
   ],
   "source": [
    "import tensorflow as tf\n",
    "from tensorflow.keras.layers import Input, Conv2D, Dense, Concatenate\n",
    "from tensorflow.keras.models import Model\n",
    "from swin_transformer_final import SwinTransformerModel, CFGS\n",
    "\n",
    "def create_swin_encoder(input_shape, swin_model_type, pretrained=True, layer_img='rgb'):\n",
    "    # Load the Swin Transformer model configuration\n",
    "    swin_config = CFGS[swin_model_type]\n",
    "    swin_transformer = SwinTransformerModel(include_top=False, **swin_config)\n",
    "    \n",
    "    # Load pretrained weights if specified\n",
    "    if pretrained:\n",
    "        model_name = swin_model_type\n",
    "        url = f'https://github.com/rishigami/Swin-Transformer-TF/releases/download/v0.1-tf-swin-weights/{model_name}.tgz'\n",
    "        pretrained_weights = tf.keras.utils.get_file(fname=model_name, origin=url, untar=True)\n",
    "        if tf.io.gfile.isdir(pretrained_weights):\n",
    "            pretrained_weights = f'{pretrained_weights}/{model_name}.ckpt'\n",
    "        swin_transformer.load_weights(pretrained_weights)\n",
    "    \n",
    "    # Define the input layer\n",
    "    input_layer = Input(shape=input_shape)\n",
    "\n",
    "    # Forward pass up to the global average pooling\n",
    "    x = swin_transformer.patch_embedding(input_layer)\n",
    "    x = swin_transformer.basic_layers(x)\n",
    "    x = swin_transformer.normalization_layer(x)\n",
    "    x = swin_transformer.global_average_pooling(x)\n",
    "\n",
    "    # If the model does not output a 1000-dimensional vector, use a Dense layer to project it\n",
    "    if swin_transformer.n_features != 1000:\n",
    "        x = Dense(1000)(x)\n",
    "\n",
    "    # Create a model\n",
    "    return Model(input_layer, x, name=f'{swin_model_type}_encoder_{layer_img}')\n",
    "\n",
    "\n",
    "# Define input shapes\n",
    "input_shape_rgb = (224, 224, 3)\n",
    "input_shape_vsi = (224, 224, 3)\n",
    "input_shape_tda = (224, 224, 3)\n",
    "\n",
    "# Create Swin Transformer encoders for each input type\n",
    "swin_encoder_rgb = create_swin_encoder(input_shape_rgb, 'swin_small_224', layer_img='rgb')\n",
    "swin_encoder_vsi = create_swin_encoder(input_shape_vsi, 'swin_small_224', layer_img='vsi')\n",
    "swin_encoder_tda = create_swin_encoder(input_shape_tda, 'swin_small_224', layer_img='tda')\n",
    "\n",
    "# Inputs for RGB, VSI, and TDA images\n",
    "input_rgb = Input(shape=input_shape_rgb, name='input_rgb')\n",
    "input_vsi = Input(shape=(224,224,1), name='input_vsi')\n",
    "input_tda = Input(shape=input_shape_tda, name='input_tda')\n",
    "\n",
    "input_after_conv_vsi = Conv2D(3, kernel_size=(3,3), padding='same', activation='relu')(input_vsi)\n",
    "\n",
    "# Process each input through its respective Swin Transformer encoder\n",
    "features_rgb = swin_encoder_rgb(input_rgb)\n",
    "features_vsi = swin_encoder_vsi(input_after_conv_vsi)\n",
    "features_tda = swin_encoder_tda(input_tda)\n",
    "\n",
    "# Concatenate the output features from all Swin Transformer encoders\n",
    "concatenated_features = Concatenate()([features_rgb, features_vsi, features_tda])\n",
    "\n",
    "# Classifier head\n",
    "classifier_output = Dense(2, activation='softmax', name='classifier')(concatenated_features)\n",
    "\n",
    "# Create the combined Model\n",
    "combined_model = Model(inputs=[input_rgb, input_after_conv_vsi, input_tda], outputs=classifier_output)\n",
    "\n",
    "# Compile the combined model\n",
    "combined_model.compile(optimizer='adam', loss='categorical_crossentropy', metrics=['accuracy'])\n",
    "\n",
    "# Summary of the model\n",
    "combined_model.summary()"
   ]
  },
  {
   "cell_type": "markdown",
   "id": "5f52516e-fdba-4151-a6dd-3849bceb8086",
   "metadata": {},
   "source": [
    "# Implementation with just RGB + VSI Patched Images"
   ]
  },
  {
   "cell_type": "code",
   "execution_count": 1,
   "id": "01ce04b5-0026-4dfe-84d3-b19a8fb98063",
   "metadata": {},
   "outputs": [
    {
     "name": "stderr",
     "output_type": "stream",
     "text": [
      "2024-04-12 23:13:56.448146: I metal_plugin/src/device/metal_device.cc:1154] Metal device set to: Apple M2\n",
      "2024-04-12 23:13:56.448162: I metal_plugin/src/device/metal_device.cc:296] systemMemory: 16.00 GB\n",
      "2024-04-12 23:13:56.448170: I metal_plugin/src/device/metal_device.cc:313] maxCacheSize: 5.33 GB\n",
      "2024-04-12 23:13:56.448196: I tensorflow/core/common_runtime/pluggable_device/pluggable_device_factory.cc:306] Could not identify NUMA node of platform GPU ID 0, defaulting to 0. Your kernel may not have been built with NUMA support.\n",
      "2024-04-12 23:13:56.448213: I tensorflow/core/common_runtime/pluggable_device/pluggable_device_factory.cc:272] Created TensorFlow device (/job:localhost/replica:0/task:0/device:GPU:0 with 0 MB memory) -> physical PluggableDevice (device: 0, name: METAL, pci bus id: <undefined>)\n"
     ]
    }
   ],
   "source": [
    "import tensorflow as tf\n",
    "from tensorflow.keras.layers import Input, Conv2D, Dense, Concatenate\n",
    "from tensorflow.keras.models import Model\n",
    "from swin_transformer_final import SwinTransformerModel, CFGS\n",
    "\n",
    "def create_swin_encoder(input_shape, swin_model_type, pretrained=True, layer_img='rgb'):\n",
    "    # Load the Swin Transformer model configuration\n",
    "    swin_config = CFGS[swin_model_type]\n",
    "    swin_transformer = SwinTransformerModel(include_top=False, **swin_config)\n",
    "    \n",
    "    # Load pretrained weights if specified\n",
    "    if pretrained:\n",
    "        model_name = swin_model_type\n",
    "        url = f'https://github.com/rishigami/Swin-Transformer-TF/releases/download/v0.1-tf-swin-weights/{model_name}.tgz'\n",
    "        pretrained_weights = tf.keras.utils.get_file(fname=model_name, origin=url, untar=True)\n",
    "        if tf.io.gfile.isdir(pretrained_weights):\n",
    "            pretrained_weights = f'{pretrained_weights}/{model_name}.ckpt'\n",
    "        swin_transformer.load_weights(pretrained_weights)\n",
    "    \n",
    "    # Define the input layer\n",
    "    input_layer = Input(shape=input_shape)\n",
    "\n",
    "    # Forward pass up to the global average pooling\n",
    "    x = swin_transformer.patch_embedding(input_layer)\n",
    "    x = swin_transformer.basic_layers(x)\n",
    "    x = swin_transformer.normalization_layer(x)\n",
    "    x = swin_transformer.global_average_pooling(x)\n",
    "\n",
    "    # If the model does not output a 1000-dimensional vector, use a Dense layer to project it\n",
    "    if swin_transformer.n_features != 1000:\n",
    "        x = Dense(1000)(x)\n",
    "\n",
    "    # Create a model\n",
    "    return Model(input_layer, x, name=f'{swin_model_type}_encoder_{layer_img}')\n",
    "\n",
    "\n",
    "# Define input shapes\n",
    "input_shape_rgb = (224, 224, 3)\n",
    "input_shape_vsi = (224, 224, 3)\n",
    "# input_shape_tda = (224, 224, 3)\n",
    "\n",
    "# Create Swin Transformer encoders for each input type\n",
    "swin_encoder_rgb = create_swin_encoder(input_shape_rgb, 'swin_tiny_224', layer_img='rgb')\n",
    "swin_encoder_vsi = create_swin_encoder(input_shape_vsi, 'swin_tiny_224', layer_img='vsi')\n",
    "# swin_encoder_tda = create_swin_encoder(input_shape_tda, 'swin_small_224', layer_img='tda')\n",
    "\n",
    "# Inputs for RGB, VSI, and TDA images\n",
    "input_rgb = Input(shape=input_shape_rgb, name='input_rgb')\n",
    "input_vsi = Input(shape=(224,224,1), name='input_vsi')\n",
    "# input_tda = Input(shape=input_shape_tda, name='input_tda')\n",
    "\n",
    "input_after_conv_vsi = Conv2D(3, kernel_size=(3,3), padding='same', activation='relu')(input_vsi)\n",
    "\n",
    "# Process each input through its respective Swin Transformer encoder\n",
    "features_rgb = swin_encoder_rgb(input_rgb)\n",
    "features_vsi = swin_encoder_vsi(input_after_conv_vsi)\n",
    "# features_tda = swin_encoder_tda(input_tda)\n",
    "\n",
    "# Concatenate the output features from all Swin Transformer encoders\n",
    "concatenated_features = Concatenate()([features_rgb, features_vsi]) # , features_tda\n",
    "\n",
    "# Classifier head\n",
    "classifier_output = Dense(2, activation='softmax', name='classifier')(concatenated_features)"
   ]
  },
  {
   "cell_type": "code",
   "execution_count": 2,
   "id": "e974f23a-c312-4c2a-a6c1-2d0d94c315a1",
   "metadata": {},
   "outputs": [],
   "source": [
    "for layer in swin_encoder_rgb.layers[:-1]:\n",
    "    layer.trainable = False\n",
    "\n",
    "# Freeze the Swin Transformer layers for VSI encoder\n",
    "for layer in swin_encoder_vsi.layers[:-1]:\n",
    "    layer.trainable = False"
   ]
  },
  {
   "cell_type": "code",
   "execution_count": 3,
   "id": "4c82995e-b510-4b58-9858-b031236a1fe4",
   "metadata": {},
   "outputs": [
    {
     "name": "stdout",
     "output_type": "stream",
     "text": [
      "Model: \"model\"\n",
      "__________________________________________________________________________________________________\n",
      " Layer (type)                Output Shape                 Param #   Connected to                  \n",
      "==================================================================================================\n",
      " input_vsi (InputLayer)      [(None, 224, 224, 1)]        0         []                            \n",
      "                                                                                                  \n",
      " input_rgb (InputLayer)      [(None, 224, 224, 3)]        0         []                            \n",
      "                                                                                                  \n",
      " conv2d (Conv2D)             (None, 224, 224, 3)          30        ['input_vsi[0][0]']           \n",
      "                                                                                                  \n",
      " swin_tiny_224_encoder_rgb   (None, 1000)                 2853805   ['input_rgb[0][0]']           \n",
      " (Functional)                                             8                                       \n",
      "                                                                                                  \n",
      " swin_tiny_224_encoder_vsi   (None, 1000)                 2853805   ['conv2d[0][0]']              \n",
      " (Functional)                                             8                                       \n",
      "                                                                                                  \n",
      " concatenate (Concatenate)   (None, 2000)                 0         ['swin_tiny_224_encoder_rgb[0]\n",
      "                                                                    [0]',                         \n",
      "                                                                     'swin_tiny_224_encoder_vsi[0]\n",
      "                                                                    [0]']                         \n",
      "                                                                                                  \n",
      " classifier (Dense)          (None, 2)                    4002      ['concatenate[0][0]']         \n",
      "                                                                                                  \n",
      "==================================================================================================\n",
      "Total params: 57080148 (219.65 MB)\n",
      "Trainable params: 1542032 (5.88 MB)\n",
      "Non-trainable params: 55538116 (213.77 MB)\n",
      "__________________________________________________________________________________________________\n"
     ]
    }
   ],
   "source": [
    "# Create the combined Model\n",
    "combined_model = Model(inputs=[input_rgb, input_vsi], outputs=classifier_output) # , input_tda\n",
    "\n",
    "# Compile the combined model\n",
    "combined_model.compile(optimizer='adam', loss='sparse_categorical_crossentropy', metrics=['accuracy'])\n",
    "\n",
    "# Summary of the model\n",
    "combined_model.summary()"
   ]
  },
  {
   "cell_type": "code",
   "execution_count": 4,
   "id": "3e7cb608-9530-4835-a366-f95dc2b9d223",
   "metadata": {},
   "outputs": [
    {
     "name": "stdout",
     "output_type": "stream",
     "text": [
      "input_vsi True\n",
      "input_rgb True\n",
      "conv2d True\n",
      "swin_tiny_224_encoder_rgb True\n",
      "swin_tiny_224_encoder_vsi True\n",
      "concatenate True\n",
      "classifier True\n"
     ]
    }
   ],
   "source": [
    "# Verify that the layers are frozen\n",
    "for layer in combined_model.layers:\n",
    "    print(layer.name, layer.trainable)"
   ]
  },
  {
   "cell_type": "code",
   "execution_count": 5,
   "id": "3aa64f39-b3c0-4832-9e22-85a7e1a090cf",
   "metadata": {},
   "outputs": [
    {
     "name": "stdout",
     "output_type": "stream",
     "text": [
      "Trainable status of layers in swin_encoder_rgb:\n",
      "input_1 False\n",
      "patch_embed False\n",
      "sequential_4 False\n",
      "norm False\n",
      "global_average_pooling1d False\n",
      "dense True\n",
      "\n",
      "Trainable status of layers in swin_encoder_vsi:\n",
      "input_2 False\n",
      "patch_embed False\n",
      "sequential_9 False\n",
      "norm False\n",
      "global_average_pooling1d_1 False\n",
      "dense_1 True\n"
     ]
    }
   ],
   "source": [
    "# Check the trainable status of the layers in swin_encoder_rgb\n",
    "print(\"Trainable status of layers in swin_encoder_rgb:\")\n",
    "for layer in swin_encoder_rgb.layers:\n",
    "    print(layer.name, layer.trainable)\n",
    "\n",
    "# Check the trainable status of the layers in swin_encoder_vsi\n",
    "print(\"\\nTrainable status of layers in swin_encoder_vsi:\")\n",
    "for layer in swin_encoder_vsi.layers:\n",
    "    print(layer.name, layer.trainable)\n"
   ]
  },
  {
   "cell_type": "code",
   "execution_count": 10,
   "id": "b3029580-f1c4-4ba7-91a1-244fe10790b7",
   "metadata": {},
   "outputs": [],
   "source": [
    "import numpy as np\n",
    "train_rgb, train_labels = np.load('./training_data/images_rgb.npy'), np.load('./training_data/image_labels.npy')"
   ]
  },
  {
   "cell_type": "code",
   "execution_count": 11,
   "id": "b290a727-4e79-4088-a84b-249ac3943715",
   "metadata": {},
   "outputs": [],
   "source": [
    "train_vessels, train_labels_v = np.load('./training_data/vessels_seg.npy'), np.load('./training_data/vessels_seg.npy')"
   ]
  },
  {
   "cell_type": "code",
   "execution_count": 12,
   "id": "d4549bb1-fe8a-4765-94ab-2b6f33c05c7d",
   "metadata": {},
   "outputs": [
    {
     "data": {
      "text/plain": [
       "(3150, 224, 224, 3)"
      ]
     },
     "execution_count": 12,
     "metadata": {},
     "output_type": "execute_result"
    }
   ],
   "source": [
    "train_rgb.shape"
   ]
  },
  {
   "cell_type": "code",
   "execution_count": 13,
   "id": "6aa3b909-3050-4ded-865f-b9c09ce8bfae",
   "metadata": {},
   "outputs": [
    {
     "data": {
      "text/plain": [
       "(3150, 224, 224)"
      ]
     },
     "execution_count": 13,
     "metadata": {},
     "output_type": "execute_result"
    }
   ],
   "source": [
    "train_vessels.shape"
   ]
  },
  {
   "cell_type": "code",
   "execution_count": 14,
   "id": "2babec98-325c-4b69-8c56-dbe3f91a2b74",
   "metadata": {},
   "outputs": [],
   "source": [
    "train_vessels = train_vessels.reshape(3150,224,224,1)"
   ]
  },
  {
   "cell_type": "code",
   "execution_count": 15,
   "id": "8e65d0fa-5c93-4bf7-99ce-f31e3a999a60",
   "metadata": {},
   "outputs": [
    {
     "data": {
      "text/plain": [
       "(3150, 224, 224, 1)"
      ]
     },
     "execution_count": 15,
     "metadata": {},
     "output_type": "execute_result"
    }
   ],
   "source": [
    "train_vessels.shape"
   ]
  },
  {
   "cell_type": "code",
   "execution_count": 16,
   "id": "b75134fd-671f-43b2-93bd-1acfa0190094",
   "metadata": {},
   "outputs": [],
   "source": [
    "import matplotlib.pyplot as plt"
   ]
  },
  {
   "cell_type": "code",
   "execution_count": 17,
   "id": "14bad352-080e-4b15-a282-566069d6551e",
   "metadata": {},
   "outputs": [],
   "source": [
    "final_training = [train_rgb, train_vessels]"
   ]
  },
  {
   "cell_type": "code",
   "execution_count": 18,
   "id": "4ba3417f-8b8f-42d0-9983-92ac3c49a004",
   "metadata": {},
   "outputs": [
    {
     "data": {
      "text/plain": [
       "(224, 224, 1)"
      ]
     },
     "execution_count": 18,
     "metadata": {},
     "output_type": "execute_result"
    }
   ],
   "source": [
    "train_vessels[0].shape"
   ]
  },
  {
   "cell_type": "code",
   "execution_count": 16,
   "id": "b66fd16c-5f03-42f3-b740-26b018deeca7",
   "metadata": {},
   "outputs": [
    {
     "name": "stdout",
     "output_type": "stream",
     "text": [
      "Epoch 1/5\n"
     ]
    },
    {
     "name": "stderr",
     "output_type": "stream",
     "text": [
      "2024-04-12 23:14:53.369578: I tensorflow/core/grappler/optimizers/custom_graph_optimizer_registry.cc:117] Plugin optimizer for device_type GPU is enabled.\n"
     ]
    },
    {
     "name": "stdout",
     "output_type": "stream",
     "text": [
      "99/99 [==============================] - 258s 2s/step - loss: 1.2522 - accuracy: 0.6562\n",
      "Epoch 2/5\n",
      "99/99 [==============================] - 223s 2s/step - loss: 0.5734 - accuracy: 0.7321\n",
      "Epoch 3/5\n",
      "99/99 [==============================] - 236s 2s/step - loss: 0.5827 - accuracy: 0.7298\n",
      "Epoch 4/5\n",
      "99/99 [==============================] - 252s 3s/step - loss: 0.4978 - accuracy: 0.7679\n",
      "Epoch 5/5\n",
      "99/99 [==============================] - 242s 2s/step - loss: 0.6245 - accuracy: 0.7105\n"
     ]
    },
    {
     "data": {
      "text/plain": [
       "<keras.src.callbacks.History at 0x28bbc2590>"
      ]
     },
     "execution_count": 16,
     "metadata": {},
     "output_type": "execute_result"
    }
   ],
   "source": [
    "combined_model.fit(final_training, train_labels, epochs=5)"
   ]
  },
  {
   "cell_type": "code",
   "execution_count": 18,
   "id": "4f1d73b8-ec99-4759-bcd5-e519f1c6b99d",
   "metadata": {},
   "outputs": [
    {
     "name": "stdout",
     "output_type": "stream",
     "text": [
      "99/99 [==============================] - 134s 1s/step\n"
     ]
    }
   ],
   "source": [
    "y_pred = combined_model.predict(final_training)"
   ]
  },
  {
   "cell_type": "code",
   "execution_count": 19,
   "id": "506a06d8-20b6-4e37-8cbc-d0e99fab04b7",
   "metadata": {},
   "outputs": [],
   "source": [
    "np.save('y_pred_rgb_vsi.npy', y_pred)"
   ]
  },
  {
   "cell_type": "code",
   "execution_count": 20,
   "id": "6ec9c757-6b7c-4366-a8af-38d9939f37a5",
   "metadata": {},
   "outputs": [],
   "source": [
    "from sklearn.metrics import roc_curve\n",
    "roc = roc_curve(train_labels, y_pred[:,1])\n",
    "fpr, tpr = roc[0], roc[1]"
   ]
  },
  {
   "cell_type": "markdown",
   "id": "591bc651-b664-4c78-92f7-6132ccc596ef",
   "metadata": {},
   "source": [
    "---"
   ]
  },
  {
   "cell_type": "markdown",
   "id": "bf4b7ca1-5b6e-4238-8b24-fd975bee8471",
   "metadata": {},
   "source": [
    "# All Channels - RGB + VSI + TDA"
   ]
  },
  {
   "cell_type": "code",
   "execution_count": 3,
   "id": "5ff86fe7-5b57-465e-b1d1-372139680063",
   "metadata": {},
   "outputs": [
    {
     "name": "stderr",
     "output_type": "stream",
     "text": [
      "2024-04-27 14:41:20.283247: I metal_plugin/src/device/metal_device.cc:1154] Metal device set to: Apple M2\n",
      "2024-04-27 14:41:20.283265: I metal_plugin/src/device/metal_device.cc:296] systemMemory: 16.00 GB\n",
      "2024-04-27 14:41:20.283269: I metal_plugin/src/device/metal_device.cc:313] maxCacheSize: 5.33 GB\n",
      "2024-04-27 14:41:20.283295: I tensorflow/core/common_runtime/pluggable_device/pluggable_device_factory.cc:306] Could not identify NUMA node of platform GPU ID 0, defaulting to 0. Your kernel may not have been built with NUMA support.\n",
      "2024-04-27 14:41:20.283306: I tensorflow/core/common_runtime/pluggable_device/pluggable_device_factory.cc:272] Created TensorFlow device (/job:localhost/replica:0/task:0/device:GPU:0 with 0 MB memory) -> physical PluggableDevice (device: 0, name: METAL, pci bus id: <undefined>)\n"
     ]
    }
   ],
   "source": [
    "import tensorflow as tf\n",
    "from tensorflow.keras.layers import Input, Conv2D, Dense, Concatenate\n",
    "from tensorflow.keras.models import Model\n",
    "from swin_transformer_final import SwinTransformerModel, CFGS\n",
    "\n",
    "def create_swin_encoder(input_shape, swin_model_type, pretrained=True, layer_img='rgb'):\n",
    "    # Load the Swin Transformer model configuration\n",
    "    swin_config = CFGS[swin_model_type]\n",
    "    swin_transformer = SwinTransformerModel(include_top=False, **swin_config)\n",
    "    \n",
    "    # Load pretrained weights if specified\n",
    "    if pretrained:\n",
    "        model_name = swin_model_type\n",
    "        url = f'https://github.com/rishigami/Swin-Transformer-TF/releases/download/v0.1-tf-swin-weights/{model_name}.tgz'\n",
    "        pretrained_weights = tf.keras.utils.get_file(fname=model_name, origin=url, untar=True)\n",
    "        if tf.io.gfile.isdir(pretrained_weights):\n",
    "            pretrained_weights = f'{pretrained_weights}/{model_name}.ckpt'\n",
    "        swin_transformer.load_weights(pretrained_weights)\n",
    "    \n",
    "    # Define the input layer\n",
    "    input_layer = Input(shape=input_shape)\n",
    "\n",
    "    # Forward pass up to the global average pooling\n",
    "    x = swin_transformer.patch_embedding(input_layer)\n",
    "    x = swin_transformer.basic_layers(x)\n",
    "    x = swin_transformer.normalization_layer(x)\n",
    "    x = swin_transformer.global_average_pooling(x)\n",
    "\n",
    "    # If the model does not output a 1000-dimensional vector, use a Dense layer to project it\n",
    "    if swin_transformer.n_features != 1000:\n",
    "        x = Dense(1000)(x)\n",
    "\n",
    "    # Create a model\n",
    "    return Model(input_layer, x, name=f'{swin_model_type}_encoder_{layer_img}')\n",
    "\n",
    "\n",
    "# Define input shapes\n",
    "input_shape_rgb = (224, 224, 3)\n",
    "input_shape_vsi = (224, 224, 3)\n",
    "input_shape_tda = (224, 224, 3)\n",
    "\n",
    "# Create Swin Transformer encoders for each input type\n",
    "swin_encoder_rgb = create_swin_encoder(input_shape_rgb, 'swin_tiny_224', layer_img='rgb')\n",
    "swin_encoder_vsi = create_swin_encoder(input_shape_vsi, 'swin_tiny_224', layer_img='vsi')\n",
    "swin_encoder_tda = create_swin_encoder(input_shape_tda, 'swin_tiny_224', layer_img='tda')\n",
    "\n",
    "# Inputs for RGB, VSI, and TDA images\n",
    "input_rgb = Input(shape=input_shape_rgb, name='input_rgb')\n",
    "input_vsi = Input(shape=(224,224,1), name='input_vsi')\n",
    "input_tda = Input(shape=input_shape_tda, name='input_tda')\n",
    "\n",
    "input_after_conv_vsi = Conv2D(3, kernel_size=(3,3), padding='same', activation='relu')(input_vsi)\n",
    "\n",
    "# Process each input through its respective Swin Transformer encoder\n",
    "features_rgb = swin_encoder_rgb(input_rgb)\n",
    "features_vsi = swin_encoder_vsi(input_after_conv_vsi)\n",
    "features_tda = swin_encoder_tda(input_tda)\n",
    "\n",
    "# Concatenate the output features from all Swin Transformer encoders\n",
    "concatenated_features = Concatenate()([features_rgb, features_vsi, features_tda])\n",
    "\n",
    "# Classifier head\n",
    "classifier_output = Dense(2, activation='softmax', name='classifier')(concatenated_features)"
   ]
  },
  {
   "cell_type": "code",
   "execution_count": 4,
   "id": "6ebc7b5b-d6fa-449a-a488-83572f99409b",
   "metadata": {},
   "outputs": [],
   "source": [
    "for layer in swin_encoder_rgb.layers[:-1]:\n",
    "    layer.trainable = False\n",
    "\n",
    "# Freeze the Swin Transformer layers for VSI encoder\n",
    "for layer in swin_encoder_vsi.layers[:-1]:\n",
    "    layer.trainable = False\n",
    "\n",
    "for layer in swin_encoder_tda.layers[:-1]:\n",
    "    layer.trainable = False"
   ]
  },
  {
   "cell_type": "code",
   "execution_count": 5,
   "id": "22dcdd2a-5135-4558-957a-203097711ea5",
   "metadata": {},
   "outputs": [
    {
     "name": "stdout",
     "output_type": "stream",
     "text": [
      "Trainable status of layers in swin_encoder_rgb:\n",
      "input_1 False\n",
      "patch_embed False\n",
      "sequential_4 False\n",
      "norm False\n",
      "global_average_pooling1d False\n",
      "dense True\n",
      "\n",
      "Trainable status of layers in swin_encoder_vsi:\n",
      "input_2 False\n",
      "patch_embed False\n",
      "sequential_9 False\n",
      "norm False\n",
      "global_average_pooling1d_1 False\n",
      "dense_1 True\n",
      "\n",
      "Trainable status of layers in swin_encoder_tda:\n",
      "input_3 False\n",
      "patch_embed False\n",
      "sequential_14 False\n",
      "norm False\n",
      "global_average_pooling1d_2 False\n",
      "dense_2 True\n"
     ]
    }
   ],
   "source": [
    "# Check the trainable status of the layers in swin_encoder_rgb\n",
    "print(\"Trainable status of layers in swin_encoder_rgb:\")\n",
    "for layer in swin_encoder_rgb.layers:\n",
    "    print(layer.name, layer.trainable)\n",
    "\n",
    "# Check the trainable status of the layers in swin_encoder_vsi\n",
    "print(\"\\nTrainable status of layers in swin_encoder_vsi:\")\n",
    "for layer in swin_encoder_vsi.layers:\n",
    "    print(layer.name, layer.trainable)\n",
    "\n",
    "print(\"\\nTrainable status of layers in swin_encoder_tda:\")\n",
    "for layer in swin_encoder_tda.layers:\n",
    "    print(layer.name, layer.trainable)"
   ]
  },
  {
   "cell_type": "code",
   "execution_count": 6,
   "id": "be827877-6783-409c-87fc-6a5872c91993",
   "metadata": {},
   "outputs": [
    {
     "name": "stdout",
     "output_type": "stream",
     "text": [
      "Model: \"model\"\n",
      "__________________________________________________________________________________________________\n",
      " Layer (type)                Output Shape                 Param #   Connected to                  \n",
      "==================================================================================================\n",
      " input_vsi (InputLayer)      [(None, 224, 224, 1)]        0         []                            \n",
      "                                                                                                  \n",
      " input_rgb (InputLayer)      [(None, 224, 224, 3)]        0         []                            \n",
      "                                                                                                  \n",
      " conv2d (Conv2D)             (None, 224, 224, 3)          30        ['input_vsi[0][0]']           \n",
      "                                                                                                  \n",
      " input_tda (InputLayer)      [(None, 224, 224, 3)]        0         []                            \n",
      "                                                                                                  \n",
      " swin_tiny_224_encoder_rgb   (None, 1000)                 2853805   ['input_rgb[0][0]']           \n",
      " (Functional)                                             8                                       \n",
      "                                                                                                  \n",
      " swin_tiny_224_encoder_vsi   (None, 1000)                 2853805   ['conv2d[0][0]']              \n",
      " (Functional)                                             8                                       \n",
      "                                                                                                  \n",
      " swin_tiny_224_encoder_tda   (None, 1000)                 2853805   ['input_tda[0][0]']           \n",
      " (Functional)                                             8                                       \n",
      "                                                                                                  \n",
      " concatenate (Concatenate)   (None, 3000)                 0         ['swin_tiny_224_encoder_rgb[0]\n",
      "                                                                    [0]',                         \n",
      "                                                                     'swin_tiny_224_encoder_vsi[0]\n",
      "                                                                    [0]',                         \n",
      "                                                                     'swin_tiny_224_encoder_tda[0]\n",
      "                                                                    [0]']                         \n",
      "                                                                                                  \n",
      " classifier (Dense)          (None, 2)                    6002      ['concatenate[0][0]']         \n",
      "                                                                                                  \n",
      "==================================================================================================\n",
      "Total params: 85620206 (329.47 MB)\n",
      "Trainable params: 2313032 (8.82 MB)\n",
      "Non-trainable params: 83307174 (320.65 MB)\n",
      "__________________________________________________________________________________________________\n"
     ]
    }
   ],
   "source": [
    "# Create the combined Model\n",
    "combined_model = Model(inputs=[input_rgb, input_vsi, input_tda], outputs=classifier_output) # , input_tda\n",
    "\n",
    "# Compile the combined model\n",
    "combined_model.compile(optimizer='adam', loss='sparse_categorical_crossentropy', metrics=['accuracy'])\n",
    "\n",
    "# Summary of the model\n",
    "combined_model.summary()"
   ]
  },
  {
   "cell_type": "code",
   "execution_count": 7,
   "id": "531bca53-c99d-45c5-8b6d-9396e636e17c",
   "metadata": {},
   "outputs": [],
   "source": [
    "train_tda = np.load('./training_data/tda_vr.npy')"
   ]
  },
  {
   "cell_type": "code",
   "execution_count": 8,
   "id": "c857cf36-41fa-429f-9deb-cf006d119b68",
   "metadata": {},
   "outputs": [
    {
     "data": {
      "text/plain": [
       "(3150, 224, 224, 3)"
      ]
     },
     "execution_count": 8,
     "metadata": {},
     "output_type": "execute_result"
    }
   ],
   "source": [
    "train_tda.shape"
   ]
  },
  {
   "cell_type": "code",
   "execution_count": 19,
   "id": "8b9f76c0-03b5-4cf6-8ef5-a40665bc2947",
   "metadata": {},
   "outputs": [],
   "source": [
    "training_final = [train_rgb, train_vessels, train_tda]"
   ]
  },
  {
   "cell_type": "code",
   "execution_count": 20,
   "id": "04c00dd4-ccde-4426-972f-b9b63510d87a",
   "metadata": {},
   "outputs": [
    {
     "name": "stdout",
     "output_type": "stream",
     "text": [
      "Epoch 1/8\n"
     ]
    },
    {
     "name": "stderr",
     "output_type": "stream",
     "text": [
      "2024-04-27 14:42:45.485614: I tensorflow/core/grappler/optimizers/custom_graph_optimizer_registry.cc:117] Plugin optimizer for device_type GPU is enabled.\n"
     ]
    },
    {
     "name": "stdout",
     "output_type": "stream",
     "text": [
      "99/99 [==============================] - 414s 4s/step - loss: 2.1077 - accuracy: 0.6321\n",
      "Epoch 2/8\n",
      "99/99 [==============================] - 417s 4s/step - loss: 0.6206 - accuracy: 0.6775\n",
      "Epoch 3/8\n",
      "99/99 [==============================] - 415s 4s/step - loss: 0.6487 - accuracy: 0.6695\n",
      "Epoch 4/8\n",
      "99/99 [==============================] - 408s 4s/step - loss: 0.5577 - accuracy: 0.7140\n",
      "Epoch 5/8\n",
      "99/99 [==============================] - 423s 4s/step - loss: 0.5673 - accuracy: 0.7114\n",
      "Epoch 6/8\n",
      "99/99 [==============================] - 410s 4s/step - loss: 0.5342 - accuracy: 0.7286\n",
      "Epoch 7/8\n",
      "99/99 [==============================] - 448s 5s/step - loss: 0.5216 - accuracy: 0.7429\n",
      "Epoch 8/8\n",
      "99/99 [==============================] - 454s 5s/step - loss: 0.5170 - accuracy: 0.7470\n"
     ]
    },
    {
     "data": {
      "text/plain": [
       "<keras.src.callbacks.History at 0x347093730>"
      ]
     },
     "execution_count": 20,
     "metadata": {},
     "output_type": "execute_result"
    }
   ],
   "source": [
    "combined_model.fit(training_final, train_labels, epochs=8)"
   ]
  },
  {
   "cell_type": "code",
   "execution_count": 21,
   "id": "c14c2ad8-0a83-45e2-bf8b-c8559fb333c7",
   "metadata": {},
   "outputs": [],
   "source": [
    "from sklearn.metrics import roc_curve"
   ]
  },
  {
   "cell_type": "code",
   "execution_count": 22,
   "id": "3114f5b1-a4c6-4655-8c80-b8352cdcb14f",
   "metadata": {},
   "outputs": [
    {
     "name": "stdout",
     "output_type": "stream",
     "text": [
      "99/99 [==============================] - 254s 2s/step\n"
     ]
    }
   ],
   "source": [
    "y_pred = combined_model.predict(training_final)"
   ]
  },
  {
   "cell_type": "markdown",
   "id": "d73fc035-ce65-4950-9a6e-867e7cb7a091",
   "metadata": {},
   "source": [
    "---"
   ]
  },
  {
   "cell_type": "code",
   "execution_count": 23,
   "id": "dc2b1f08-fafd-440a-b044-ddc2623ffa4b",
   "metadata": {},
   "outputs": [],
   "source": [
    "np.save('y_pred_all_channels_vr.npy', y_pred)"
   ]
  },
  {
   "cell_type": "code",
   "execution_count": 24,
   "id": "d9313ffa-c225-47e8-b891-4d995b77eca4",
   "metadata": {},
   "outputs": [],
   "source": [
    "y_pred_cb_3 = np.load('y_pred_all_channels_cb.npy')\n",
    "y_pred_vr_3 = np.load('y_pred_all_channels_vr.npy')\n",
    "y_pred2 = np.load('y_pred_rgb_vsi.npy')"
   ]
  },
  {
   "cell_type": "code",
   "execution_count": 25,
   "id": "003cbccd-e0ad-4d63-9fd3-d5bb88ce3270",
   "metadata": {},
   "outputs": [],
   "source": [
    "roc = roc_curve(train_labels, y_pred2[:,1])\n",
    "roc_cb = roc_curve(train_labels, y_pred_cb_3[:,1])\n",
    "roc_vr = roc_curve(train_labels, y_pred_vr_3[:,1])"
   ]
  },
  {
   "cell_type": "code",
   "execution_count": 26,
   "id": "6def41e1-4feb-4c31-babe-c7e80e5f36f4",
   "metadata": {},
   "outputs": [],
   "source": [
    "fpr, tpr = roc[0], roc[1]\n",
    "fpr_vr, tpr_vr = roc_vr[0], roc_vr[1]\n",
    "fpr_cb, tpr_cb = roc_cb[0], roc_cb[1]"
   ]
  },
  {
   "cell_type": "code",
   "execution_count": 27,
   "id": "716f8150-ba32-407d-b86b-fc0fd0e3213e",
   "metadata": {},
   "outputs": [
    {
     "data": {
      "image/png": "[encoded data removed]",
      "text/plain": [
       "<Figure size 640x480 with 1 Axes>"
      ]
     },
     "metadata": {},
     "output_type": "display_data"
    }
   ],
   "source": [
    "plt.plot(fpr, tpr, label = 'SWIN-T on RGB+VSI')\n",
    "plt.plot(fpr_vr, tpr_vr, label = 'SWIN-T on RGB+VSI+TDA - VRP')\n",
    "plt.plot(fpr_cb, tpr_cb, label = 'SWIN-T on RGB+VSI+TDA - CBP')\n",
    "plt.plot([0,1],[0,1], label='Naive Classifier')\n",
    "plt.xlabel('FPR')\n",
    "plt.ylabel('TPR')\n",
    "plt.legend()\n",
    "plt.title('ROC Curve')\n",
    "plt.savefig('ROC.jpeg', dpi=600)\n",
    "plt.show()"
   ]
  },
  {
   "cell_type": "code",
   "execution_count": 1,
   "id": "aeeb9deb-3169-45b4-920d-6892c05fe735",
   "metadata": {},
   "outputs": [],
   "source": [
    "import numpy as np"
   ]
  },
  {
   "cell_type": "code",
   "execution_count": 2,
   "id": "69463292-7d36-4540-a774-380415919ace",
   "metadata": {},
   "outputs": [],
   "source": [
    "y_pred_all_channels = np.load('y_pred_all_channels.npy')"
   ]
  },
  {
   "cell_type": "code",
   "execution_count": 37,
   "id": "17808dac-610e-47d0-a75f-8131815cb0c5",
   "metadata": {},
   "outputs": [
    {
     "name": "stdout",
     "output_type": "stream",
     "text": [
      "[1, 1, 0, 1, 1, 0, 1, 1, 0, 1, 1, 0, 1, 1, 0, 1, 1, 0, 1, 1, 0, 1, 1, 0, 1, 1, 0, 1, 1, 0, 1, 1, 0, 1, 1, 0, 1, 1, 0, 1, 1, 0, 1, 1, 0]\n"
     ]
    }
   ],
   "source": [
    "def split_and_majority(data):\n",
    "    # Splitting the array into chunks of size 70\n",
    "    n = 70\n",
    "    mini_arrays = [data[i:i + n] for i in range(0, len(data), n)]\n",
    "    \n",
    "    # Calculating the majority for each mini array\n",
    "    majority = [1 if np.sum(chunk) > 69 else 0 for chunk in mini_arrays]\n",
    "    \n",
    "    return majority\n",
    "\n",
    "# Example array\n",
    "data = train_labels  # Replace this with your actual data array\n",
    "\n",
    "# Call the function\n",
    "result = split_and_majority(data)\n",
    "print(result)"
   ]
  },
  {
   "cell_type": "code",
   "execution_count": 38,
   "id": "ddfa30ba-7662-4fb3-a822-4bacabd129c6",
   "metadata": {},
   "outputs": [],
   "source": [
    "y_pred_int = np.argmax(y_pred_all_channels, axis=1)"
   ]
  },
  {
   "cell_type": "code",
   "execution_count": 39,
   "id": "c36c0d75-5322-4efc-b665-dbc01222ce64",
   "metadata": {},
   "outputs": [],
   "source": [
    "result1 = split_and_majority(y_pred_int)"
   ]
  },
  {
   "cell_type": "code",
   "execution_count": 40,
   "id": "db08c7f5-c83f-4d03-a8d6-d1307cc35935",
   "metadata": {},
   "outputs": [
    {
     "data": {
      "text/plain": [
       "[1,\n",
       " 1,\n",
       " 1,\n",
       " 1,\n",
       " 1,\n",
       " 1,\n",
       " 1,\n",
       " 1,\n",
       " 0,\n",
       " 1,\n",
       " 1,\n",
       " 0,\n",
       " 1,\n",
       " 1,\n",
       " 1,\n",
       " 1,\n",
       " 1,\n",
       " 1,\n",
       " 1,\n",
       " 1,\n",
       " 1,\n",
       " 1,\n",
       " 1,\n",
       " 0,\n",
       " 1,\n",
       " 1,\n",
       " 1,\n",
       " 1,\n",
       " 1,\n",
       " 1,\n",
       " 1,\n",
       " 1,\n",
       " 0,\n",
       " 1,\n",
       " 1,\n",
       " 1,\n",
       " 1,\n",
       " 1,\n",
       " 0,\n",
       " 1,\n",
       " 1,\n",
       " 1,\n",
       " 1,\n",
       " 1,\n",
       " 1]"
      ]
     },
     "execution_count": 40,
     "metadata": {},
     "output_type": "execute_result"
    }
   ],
   "source": [
    "result1"
   ]
  },
  {
   "cell_type": "code",
   "execution_count": 41,
   "id": "e0ff5c61-0784-4624-808f-b2636996d336",
   "metadata": {},
   "outputs": [
    {
     "data": {
      "text/plain": [
       "array([1, 1, 1, ..., 1, 1, 1])"
      ]
     },
     "execution_count": 41,
     "metadata": {},
     "output_type": "execute_result"
    }
   ],
   "source": [
    "y_pred_int"
   ]
  },
  {
   "cell_type": "code",
   "execution_count": 42,
   "id": "0bb53510-1958-4140-83ce-5e967d070832",
   "metadata": {},
   "outputs": [
    {
     "data": {
      "text/plain": [
       "3116"
      ]
     },
     "execution_count": 42,
     "metadata": {},
     "output_type": "execute_result"
    }
   ],
   "source": [
    "np.sum(y_pred_int)"
   ]
  },
  {
   "cell_type": "code",
   "execution_count": 43,
   "id": "6f346f06-bf8e-4304-b1dd-ee9872cbb710",
   "metadata": {},
   "outputs": [
    {
     "data": {
      "text/plain": [
       "array([0.02717963, 0.9728204 ], dtype=float32)"
      ]
     },
     "execution_count": 43,
     "metadata": {},
     "output_type": "execute_result"
    }
   ],
   "source": [
    "y_pred_all_channels[0]"
   ]
  },
  {
   "cell_type": "code",
   "execution_count": 44,
   "id": "9f926522-0406-4962-92cb-c4c6fe5a21ae",
   "metadata": {},
   "outputs": [
    {
     "data": {
      "text/plain": [
       "35"
      ]
     },
     "execution_count": 44,
     "metadata": {},
     "output_type": "execute_result"
    }
   ],
   "source": [
    "np.sum(np.array(result)==np.array(result1))"
   ]
  },
  {
   "cell_type": "code",
   "execution_count": 45,
   "id": "11e637af-cf3c-4323-8024-ec27133631ff",
   "metadata": {},
   "outputs": [
    {
     "data": {
      "text/plain": [
       "0.7777777777777778"
      ]
     },
     "execution_count": 45,
     "metadata": {},
     "output_type": "execute_result"
    }
   ],
   "source": [
    "35/45"
   ]
  },
  {
   "cell_type": "code",
   "execution_count": 46,
   "id": "b1d0d033-937e-440b-872c-fa693a0d56e8",
   "metadata": {},
   "outputs": [],
   "source": [
    "from sklearn.metrics import roc_auc_score"
   ]
  },
  {
   "cell_type": "code",
   "execution_count": 48,
   "id": "b98acbca-682f-4165-9bdd-e046ed19fb72",
   "metadata": {},
   "outputs": [
    {
     "data": {
      "text/plain": [
       "0.8645315192743763"
      ]
     },
     "execution_count": 48,
     "metadata": {},
     "output_type": "execute_result"
    }
   ],
   "source": [
    "roc_auc_score(train_labels, y_pred_all_channels[:,1])"
   ]
  },
  {
   "cell_type": "code",
   "execution_count": null,
   "id": "3c880024-2d7e-40d2-9611-50e3ef6272f0",
   "metadata": {},
   "outputs": [],
   "source": []
  }
 ],
 "metadata": {
  "kernelspec": {
   "display_name": "Python 3 (ipykernel)",
   "language": "python",
   "name": "python3"
  },
  "language_info": {
   "codemirror_mode": {
    "name": "ipython",
    "version": 3
   },
   "file_extension": ".py",
   "mimetype": "text/x-python",
   "name": "python",
   "nbconvert_exporter": "python",
   "pygments_lexer": "ipython3",
   "version": "3.12.3"
  }
 },
 "nbformat": 4,
 "nbformat_minor": 5
}
